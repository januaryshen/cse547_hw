{
 "cells": [
  {
   "cell_type": "code",
   "execution_count": 1,
   "metadata": {},
   "outputs": [],
   "source": [
    "import re\n",
    "import sys\n",
    "from pyspark import SparkConf, SparkContext\n",
    "import numpy as np\n",
    "import time"
   ]
  },
  {
   "cell_type": "code",
   "execution_count": 2,
   "metadata": {},
   "outputs": [],
   "source": [
    "conf = SparkConf().set(\"spark.driver.memory\",\"8G\")\n",
    "sc = SparkContext(conf=conf)"
   ]
  },
  {
   "cell_type": "code",
   "execution_count": 3,
   "metadata": {},
   "outputs": [],
   "source": [
    "rdd_file = sc.textFile('/Users/januaryshen/Dropbox/S19 - CSE 547/hw3/q2/data/graph-full.txt')\n",
    "rdd_file = rdd_file.map(lambda l: re.split(r'[^\\w]+', l))"
   ]
  },
  {
   "cell_type": "code",
   "execution_count": 4,
   "metadata": {},
   "outputs": [],
   "source": [
    "n = 1000\n",
    "lamb = 1\n",
    "mu = 1\n",
    "l = np.repeat(float(1), n)\n",
    "h = np.repeat(float(1), n)\n",
    "a = np.repeat(float(1), n)"
   ]
  },
  {
   "cell_type": "code",
   "execution_count": 5,
   "metadata": {},
   "outputs": [],
   "source": [
    "# Remove repetitive tuples\n",
    "# https://stackoverflow.com/questions/48994810/remove-duplicate-tuples-in-an-rdd-in-python\n",
    "rdd_file = rdd_file.map(lambda x: tuple(x)).distinct()\n",
    "L_rdd = rdd_file.map(lambda x: (x, 1))"
   ]
  },
  {
   "cell_type": "code",
   "execution_count": null,
   "metadata": {},
   "outputs": [],
   "source": [
    "start = time.time()\n",
    "for k in range(40):    \n",
    "    for i in range(n):\n",
    "        a[i] = len(L_rdd.filter(lambda x: int(x[0][1]) == i+1).map(lambda x: (int(x[0][0]), 1)).collect())\n",
    "    a = mu * a/max(a)\n",
    "\n",
    "    for j in range(n):\n",
    "        h[j] = len(L_rdd.filter(lambda x: int(x[0][0]) == j+1).map(lambda x: (int(x[0][1]), 1)).collect())\n",
    "    h = lamb * h/max(h)\n",
    "\n",
    "end = time.time()\n",
    "print(end-start)"
   ]
  },
  {
   "cell_type": "code",
   "execution_count": null,
   "metadata": {},
   "outputs": [],
   "source": [
    "# return the top 5 indexes for hubbiness\n",
    "top5 = h.argsort()[-5:][::-1]\n",
    "count = 1\n",
    "for i in top5:\n",
    "    print(\"The top %d Node is\" % count, i+1, \"with hubbiness score of %.8f\" % h[i])\n",
    "    count += 1\n",
    "    \n",
    "# return the bottom 5 indexes for hubbiness\n",
    "bottom5 = np.argpartition(h, 5)[0:5]\n",
    "count = 1\n",
    "for i in bottom5:\n",
    "    print(\"The bottom %d Node is\" % count, i+1, \"with hubbiness score of %.8f\" % h[i])\n",
    "    count += 1"
   ]
  },
  {
   "cell_type": "code",
   "execution_count": null,
   "metadata": {},
   "outputs": [],
   "source": [
    "# return the top 5 indexes for authority\n",
    "top5 = a.argsort()[-5:][::-1]\n",
    "count = 1\n",
    "for i in top5:\n",
    "    print(\"The top %d Node is\" % count, i+1, \"with authority score of %.8f\" % a[i])\n",
    "    count += 1\n",
    "    \n",
    "# return the bottom 5 indexes for authority\n",
    "bottom5 = np.argpartition(a, 5)[0:5]\n",
    "count = 1\n",
    "for i in bottom5:\n",
    "    print(\"The bottom %d Node is\" % count, i+1, \"with authority score of %.8f\" % a[i])\n",
    "    count += 1"
   ]
  },
  {
   "cell_type": "code",
   "execution_count": null,
   "metadata": {},
   "outputs": [],
   "source": []
  }
 ],
 "metadata": {
  "kernelspec": {
   "display_name": "Python 3",
   "language": "python",
   "name": "python3"
  },
  "language_info": {
   "codemirror_mode": {
    "name": "ipython",
    "version": 3
   },
   "file_extension": ".py",
   "mimetype": "text/x-python",
   "name": "python",
   "nbconvert_exporter": "python",
   "pygments_lexer": "ipython3",
   "version": "3.7.3"
  }
 },
 "nbformat": 4,
 "nbformat_minor": 2
}
