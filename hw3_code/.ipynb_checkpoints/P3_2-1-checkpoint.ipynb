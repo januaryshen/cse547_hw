{
 "cells": [
  {
   "cell_type": "code",
   "execution_count": 1,
   "metadata": {},
   "outputs": [],
   "source": [
    "import re\n",
    "import sys\n",
    "from pyspark import SparkConf, SparkContext\n",
    "import numpy as np"
   ]
  },
  {
   "cell_type": "code",
   "execution_count": 2,
   "metadata": {},
   "outputs": [],
   "source": [
    "conf = SparkConf().set(\"spark.driver.memory\",\"8G\")\n",
    "sc = SparkContext(conf=conf)"
   ]
  },
  {
   "cell_type": "code",
   "execution_count": 10,
   "metadata": {},
   "outputs": [],
   "source": [
    "rdd_file = sc.textFile('/Users/januaryshen/Dropbox/S19 - CSE 547/hw3/q2/data/graph-full.txt')\n",
    "rdd_file = rdd_file.map(lambda l: re.split(r'[^\\w]+', l))"
   ]
  },
  {
   "cell_type": "code",
   "execution_count": 11,
   "metadata": {},
   "outputs": [],
   "source": [
    "beta = 0.8\n",
    "n = 1000\n",
    "l = np.repeat(float(1), n)\n",
    "r = 1/n*l\n",
    "new_r = np.repeat(0.0, n)"
   ]
  },
  {
   "cell_type": "code",
   "execution_count": 12,
   "metadata": {},
   "outputs": [],
   "source": [
    "# Remove repetitive tuples\n",
    "# https://stackoverflow.com/questions/48994810/remove-duplicate-tuples-in-an-rdd-in-python\n",
    "rdd_file = rdd_file.map(lambda x: tuple(x)).distinct()"
   ]
  },
  {
   "cell_type": "code",
   "execution_count": 13,
   "metadata": {},
   "outputs": [],
   "source": [
    "def f(x): return len(x)\n",
    "node_weight_list = sorted(rdd_file.groupByKey().mapValues(list).mapValues(f).collect(), key=lambda x: int(x[0]), reverse=False) # list[0] is the node, list[1] is the number of outlet\n",
    "position_rdd = rdd_file.groupBy(lambda tup: tup[1]).mapValues(list)"
   ]
  },
  {
   "cell_type": "code",
   "execution_count": 14,
   "metadata": {
    "scrolled": false
   },
   "outputs": [
    {
     "name": "stdout",
     "output_type": "stream",
     "text": [
      "0.9999999999999994\n"
     ]
    }
   ],
   "source": [
    "#r = (1-beta)/n * l + beta * M.dot(r)\n",
    "\n",
    "for i in range(40):\n",
    "    for j in range(n):\n",
    "        row_target = position_rdd.filter(lambda x: int(x[0]) == j+1).collect()[0][1]\n",
    "        new_r_weight = 0\n",
    "        for k in range(len(row_target)):\n",
    "            col = int(row_target[k][0])\n",
    "            weight = node_weight_list[col-1][1]\n",
    "            new_r_weight += (1/weight*r[col-1])\n",
    "        new_r[j] = new_r_weight\n",
    "    r = (1-beta)/n * l + beta * new_r\n",
    "print(sum(r))"
   ]
  },
  {
   "cell_type": "code",
   "execution_count": 15,
   "metadata": {},
   "outputs": [
    {
     "name": "stdout",
     "output_type": "stream",
     "text": [
      "The top 1 Node is 263 with PageRank score of 0.002020\n",
      "The top 2 Node is 537 with PageRank score of 0.001943\n",
      "The top 3 Node is 965 with PageRank score of 0.001925\n",
      "The top 4 Node is 243 with PageRank score of 0.001853\n",
      "The top 5 Node is 285 with PageRank score of 0.001827\n"
     ]
    }
   ],
   "source": [
    "# return the top 5 indexes\n",
    "top5 = r.argsort()[-5:][::-1]\n",
    "count = 1\n",
    "for i in top5:\n",
    "    print(\"The top %d Node is\" % count, i+1, \"with PageRank score of %.6f\" % r[i])\n",
    "    count += 1"
   ]
  },
  {
   "cell_type": "code",
   "execution_count": 16,
   "metadata": {},
   "outputs": [
    {
     "name": "stdout",
     "output_type": "stream",
     "text": [
      "The buttom 1 Node is 558 with PageRank score of 0.00032860\n",
      "The buttom 2 Node is 93 with PageRank score of 0.00035136\n",
      "The buttom 3 Node is 424 with PageRank score of 0.00035482\n",
      "The buttom 4 Node is 62 with PageRank score of 0.00035315\n",
      "The buttom 5 Node is 408 with PageRank score of 0.00038780\n"
     ]
    }
   ],
   "source": [
    "# return the bottom 5 indexes\n",
    "bottom5 = np.argpartition(r, 5)[0:5]\n",
    "count = 1\n",
    "for i in bottom5:\n",
    "    print(\"The bottom %d Node is\" % count, i+1, \"with PageRank score of %.8f\" % r[i])\n",
    "    count += 1"
   ]
  },
  {
   "cell_type": "code",
   "execution_count": null,
   "metadata": {},
   "outputs": [],
   "source": []
  }
 ],
 "metadata": {
  "kernelspec": {
   "display_name": "Python 3",
   "language": "python",
   "name": "python3"
  },
  "language_info": {
   "codemirror_mode": {
    "name": "ipython",
    "version": 3
   },
   "file_extension": ".py",
   "mimetype": "text/x-python",
   "name": "python",
   "nbconvert_exporter": "python",
   "pygments_lexer": "ipython3",
   "version": "3.7.3"
  }
 },
 "nbformat": 4,
 "nbformat_minor": 2
}
