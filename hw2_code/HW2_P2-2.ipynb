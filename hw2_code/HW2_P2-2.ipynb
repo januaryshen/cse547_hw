{
 "cells": [
  {
   "cell_type": "code",
   "execution_count": 2,
   "metadata": {},
   "outputs": [
    {
     "ename": "ModuleNotFoundError",
     "evalue": "No module named 'pyspark'",
     "output_type": "error",
     "traceback": [
      "\u001b[0;31m---------------------------------------------------------------------------\u001b[0m",
      "\u001b[0;31mModuleNotFoundError\u001b[0m                       Traceback (most recent call last)",
      "\u001b[0;32m<ipython-input-2-c88142a36609>\u001b[0m in \u001b[0;36m<module>\u001b[0;34m\u001b[0m\n\u001b[1;32m      1\u001b[0m \u001b[0;32mimport\u001b[0m \u001b[0mre\u001b[0m\u001b[0;34m\u001b[0m\u001b[0;34m\u001b[0m\u001b[0m\n\u001b[1;32m      2\u001b[0m \u001b[0;32mimport\u001b[0m \u001b[0msys\u001b[0m\u001b[0;34m\u001b[0m\u001b[0;34m\u001b[0m\u001b[0m\n\u001b[0;32m----> 3\u001b[0;31m \u001b[0;32mfrom\u001b[0m \u001b[0mpyspark\u001b[0m \u001b[0;32mimport\u001b[0m \u001b[0mSparkConf\u001b[0m\u001b[0;34m,\u001b[0m \u001b[0mSparkContext\u001b[0m\u001b[0;34m\u001b[0m\u001b[0;34m\u001b[0m\u001b[0m\n\u001b[0m\u001b[1;32m      4\u001b[0m \u001b[0;32mimport\u001b[0m \u001b[0mnumpy\u001b[0m \u001b[0;32mas\u001b[0m \u001b[0mnp\u001b[0m\u001b[0;34m\u001b[0m\u001b[0;34m\u001b[0m\u001b[0m\n\u001b[1;32m      5\u001b[0m \u001b[0;32mimport\u001b[0m \u001b[0mmatplotlib\u001b[0m\u001b[0;34m.\u001b[0m\u001b[0mpyplot\u001b[0m \u001b[0;32mas\u001b[0m \u001b[0mplt\u001b[0m\u001b[0;34m\u001b[0m\u001b[0;34m\u001b[0m\u001b[0m\n",
      "\u001b[0;31mModuleNotFoundError\u001b[0m: No module named 'pyspark'"
     ]
    }
   ],
   "source": [
    "import re\n",
    "import sys\n",
    "from pyspark import SparkConf, SparkContext\n",
    "import numpy as np\n",
    "import matplotlib.pyplot as plt\n",
    "from PIL import Image\n",
    "%pylab inline"
   ]
  },
  {
   "cell_type": "code",
   "execution_count": null,
   "metadata": {},
   "outputs": [],
   "source": [
    "conf = SparkConf()\n",
    "sc = SparkContext(conf=conf)"
   ]
  },
  {
   "cell_type": "code",
   "execution_count": null,
   "metadata": {},
   "outputs": [],
   "source": [
    "data_m = np.matrix(np.loadtxt(\"/Users/januaryshen/Dropbox/S19 - CSE 547/hw2/q2/data/data.txt\"), dtype = float)\n",
    "c1_m = np.matrix(np.loadtxt(\"/Users/januaryshen/Dropbox/S19 - CSE 547/hw2/q2/data/c1.txt\"), dtype = float)\n",
    "c2_m = np.matrix(np.loadtxt(\"/Users/januaryshen/Dropbox/S19 - CSE 547/hw2/q2/data/c2.txt\"), dtype = float)\n",
    "\n",
    "data_rdd = sc.parallelize(data_m)\n",
    "c1_rdd = sc.parallelize(c1_m)\n",
    "c2_rdd = sc.parallelize(c2_m)"
   ]
  },
  {
   "cell_type": "code",
   "execution_count": null,
   "metadata": {},
   "outputs": [],
   "source": [
    "MAX_ITER = 20\n",
    "cost_euclid_list_c1 = list()\n",
    "cost_euclid_list_c2 = list()\n",
    "\n",
    "for n in range(MAX_ITER):\n",
    "    cost_euclid_c1 = 0\n",
    "    cost_euclid_c2 = 0\n",
    "    cluster_list_c1 = list()\n",
    "    cluster_list_c2 = list()\n",
    "    \n",
    "    for i in range(len(data_m)):\n",
    "        distance_c1 = float(\"inf\")\n",
    "        distance_c2 = float(\"inf\")\n",
    "        \n",
    "        for j in range(len(c1_m)):\n",
    "            if abs(data_m[i]-c1_m[j]).sum() <= distance_c1:\n",
    "                distance_c1 = abs(data_m[i]-c1_m[j]).sum()\n",
    "                c1_index = j\n",
    "            if abs(data_m[i]-c2_m[j]).sum() <= distance_c2:\n",
    "                distance_c2 = abs(data_m[i]-c2_m[j]).sum()\n",
    "                c2_index = j\n",
    "        \n",
    "        cost_euclid_c1 += distance_c1\n",
    "        cost_euclid_c2 += distance_c2\n",
    "        cluster_list_c1.append((c1_index, i))\n",
    "        cluster_list_c2.append((c2_index, i))\n",
    "    \n",
    "    cost_euclid_list_c1.append((n + 1, cost_euclid_c1))\n",
    "    cost_euclid_list_c2.append((n + 1, cost_euclid_c2))\n",
    "    \n",
    "    for k in range(10):\n",
    "        target_index_c1 = list()\n",
    "        target_index_c2 = list()\n",
    "        centroid_c1 = 0\n",
    "        centroid_c2 = 0\n",
    "        for l in range(len(cluster_list_c1)):\n",
    "            if cluster_list_c1[l][0] == k:\n",
    "                target_index_c1.append(l)\n",
    "        for l in range(len(cluster_list_c2)):\n",
    "            if cluster_list_c2[l][0] == k:\n",
    "                target_index_c2.append(l)\n",
    "        \n",
    "        for m in target_index_c1:\n",
    "            centroid_c1 += data_m[m]\n",
    "        for m in target_index_c2:\n",
    "            centroid_c2 += data_m[m]\n",
    "            \n",
    "        c1_m[k] = centroid_c1/len(target_index_c1) \n",
    "        c2_m[k] = centroid_c2/len(target_index_c2) "
   ]
  },
  {
   "cell_type": "code",
   "execution_count": null,
   "metadata": {},
   "outputs": [],
   "source": [
    "plt.plot(*zip(*cost_euclid_list_c1))\n",
    "plt.plot(*zip(*cost_euclid_list_c2))\n",
    "plt.show()"
   ]
  },
  {
   "cell_type": "code",
   "execution_count": null,
   "metadata": {},
   "outputs": [],
   "source": [
    "data_rdd.take(5)"
   ]
  },
  {
   "cell_type": "code",
   "execution_count": null,
   "metadata": {},
   "outputs": [],
   "source": []
  }
 ],
 "metadata": {
  "kernelspec": {
   "display_name": "Python 3",
   "language": "python",
   "name": "python3"
  },
  "language_info": {
   "codemirror_mode": {
    "name": "ipython",
    "version": 3
   },
   "file_extension": ".py",
   "mimetype": "text/x-python",
   "name": "python",
   "nbconvert_exporter": "python",
   "pygments_lexer": "ipython3",
   "version": "3.7.3"
  }
 },
 "nbformat": 4,
 "nbformat_minor": 2
}
