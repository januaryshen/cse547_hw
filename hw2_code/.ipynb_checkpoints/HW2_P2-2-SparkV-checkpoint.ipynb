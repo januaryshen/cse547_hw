{
 "cells": [
  {
   "cell_type": "code",
   "execution_count": 1,
   "metadata": {},
   "outputs": [
    {
     "name": "stdout",
     "output_type": "stream",
     "text": [
      "Populating the interactive namespace from numpy and matplotlib\n"
     ]
    }
   ],
   "source": [
    "import re\n",
    "import sys\n",
    "from pyspark import SparkConf, SparkContext\n",
    "import numpy as np\n",
    "import matplotlib.pyplot as plt\n",
    "from PIL import Image\n",
    "%pylab inline"
   ]
  },
  {
   "cell_type": "code",
   "execution_count": 2,
   "metadata": {},
   "outputs": [],
   "source": [
    "conf = SparkConf()\n",
    "sc = SparkContext(conf=conf)"
   ]
  },
  {
   "cell_type": "code",
   "execution_count": 3,
   "metadata": {},
   "outputs": [],
   "source": [
    "data_m = np.matrix(np.loadtxt(\"/Users/januaryshen/Dropbox/S19 - CSE 547/hw2/q2/data/data.txt\"), dtype = float)\n",
    "c1_m = np.matrix(np.loadtxt(\"/Users/januaryshen/Dropbox/S19 - CSE 547/hw2/q2/data/c1.txt\"), dtype = float)\n",
    "c2_m = np.matrix(np.loadtxt(\"/Users/januaryshen/Dropbox/S19 - CSE 547/hw2/q2/data/c2.txt\"), dtype = float)"
   ]
  },
  {
   "cell_type": "code",
   "execution_count": 5,
   "metadata": {},
   "outputs": [],
   "source": [
    "MAX_ITER = 20\n",
    "cost_euclid_list_c1 = list()\n",
    "cost_euclid_list_c2 = list()\n",
    "\n",
    "for n in range(MAX_ITER):\n",
    "    cost_euclid_c1 = 0\n",
    "    cost_euclid_c2 = 0\n",
    "    cluster_list_c1 = list()\n",
    "    cluster_list_c2 = list()\n",
    "    \n",
    "    for i in range(len(data_m)):\n",
    "        distance_c1 = float(\"inf\")\n",
    "        distance_c2 = float(\"inf\")\n",
    "        \n",
    "        for j in range(len(c1_m)):\n",
    "            if abs(data_m[i]-c1_m[j]).sum() <= distance_c1:\n",
    "                distance_c1 = abs(data_m[i]-c1_m[j]).sum()\n",
    "                c1_index = j\n",
    "            if abs(data_m[i]-c2_m[j]).sum() <= distance_c2:\n",
    "                distance_c2 = abs(data_m[i]-c2_m[j]).sum()\n",
    "                c2_index = j\n",
    "        \n",
    "        cost_euclid_c1 += distance_c1\n",
    "        cost_euclid_c2 += distance_c2\n",
    "        cluster_list_c1.append((c1_index, i))\n",
    "        cluster_list_c2.append((c2_index, i))\n",
    "    \n",
    "    cost_euclid_list_c1.append((n + 1, cost_euclid_c1))\n",
    "    cost_euclid_list_c2.append((n + 1, cost_euclid_c2))\n",
    "    \n",
    "    cluster_listc1_rdd = sc.parallelize(cluster_list_c1)\n",
    "    cluster_listc2_rdd = sc.parallelize(cluster_list_c2)\n",
    "    \n",
    "    c1_index = cluster_listc1_rdd.groupByKey().mapValues(list).collect()\n",
    "    c2_index = cluster_listc2_rdd.groupByKey().mapValues(list).collect()\n",
    "    \n",
    "    for k in range(10):\n",
    "        c1_m[k] = np.mean(data_m[c1_index[k][1]], axis=0)\n",
    "        c2_m[k] = np.mean(data_m[c2_index[k][1]], axis=0)\n",
    "        \n",
    "    cost_euclid_list_c1.append((n + 1, cost_euclid_c1))\n",
    "    cost_euclid_list_c2.append((n + 1, cost_euclid_c2))"
   ]
  },
  {
   "cell_type": "code",
   "execution_count": 6,
   "metadata": {},
   "outputs": [
    {
     "data": {
      "image/png": "[encoded data removed]",
      "text/plain": [
       "<Figure size 432x288 with 1 Axes>"
      ]
     },
     "metadata": {
      "needs_background": "light"
     },
     "output_type": "display_data"
    }
   ],
   "source": [
    "plt.plot(*zip(*cost_euclid_list_c1), label='initial cluster centroids = c1')\n",
    "plt.plot(*zip(*cost_euclid_list_c2), label='initial cluster centroids = c2')\n",
    "plt.legend()\n",
    "plt.xlabel(\"Number of iteration\")\n",
    "plt.ylabel(\"Cost of Manhattan distance\")\n",
    "plt.show()"
   ]
  },
  {
   "cell_type": "code",
   "execution_count": 7,
   "metadata": {},
   "outputs": [],
   "source": [
    "improve_c1 = abs(cost_euclid_list_c1[9][1] - cost_euclid_list_c1[0][1])/cost_euclid_list_c1[9][1]\n",
    "improve_c2 = abs(cost_euclid_list_c2[9][1] - cost_euclid_list_c2[0][1])/cost_euclid_list_c2[9][1]"
   ]
  },
  {
   "cell_type": "code",
   "execution_count": 8,
   "metadata": {},
   "outputs": [
    {
     "name": "stdout",
     "output_type": "stream",
     "text": [
      "0.0473239159281462 0.2821340378555433\n"
     ]
    }
   ],
   "source": [
    "print(improve_c1, improve_c2)"
   ]
  },
  {
   "cell_type": "code",
   "execution_count": null,
   "metadata": {},
   "outputs": [],
   "source": []
  }
 ],
 "metadata": {
  "kernelspec": {
   "display_name": "Python 3",
   "language": "python",
   "name": "python3"
  },
  "language_info": {
   "codemirror_mode": {
    "name": "ipython",
    "version": 3
   },
   "file_extension": ".py",
   "mimetype": "text/x-python",
   "name": "python",
   "nbconvert_exporter": "python",
   "pygments_lexer": "ipython3",
   "version": "3.7.3"
  }
 },
 "nbformat": 4,
 "nbformat_minor": 2
}
