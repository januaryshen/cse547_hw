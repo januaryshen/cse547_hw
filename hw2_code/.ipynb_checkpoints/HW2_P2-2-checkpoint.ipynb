{
 "cells": [
  {
   "cell_type": "code",
   "execution_count": 1,
   "metadata": {},
   "outputs": [
    {
     "name": "stdout",
     "output_type": "stream",
     "text": [
      "Populating the interactive namespace from numpy and matplotlib\n"
     ]
    }
   ],
   "source": [
    "import re\n",
    "import sys\n",
    "from pyspark import SparkConf, SparkContext\n",
    "import numpy as np\n",
    "import matplotlib.pyplot as plt\n",
    "from PIL import Image\n",
    "%pylab inline"
   ]
  },
  {
   "cell_type": "code",
   "execution_count": 2,
   "metadata": {},
   "outputs": [],
   "source": [
    "conf = SparkConf()\n",
    "sc = SparkContext(conf=conf)"
   ]
  },
  {
   "cell_type": "code",
   "execution_count": 3,
   "metadata": {},
   "outputs": [],
   "source": [
    "data_m = np.matrix(np.loadtxt(\"/Users/januaryshen/Dropbox/S19 - CSE 547/hw2/q2/data/data.txt\"), dtype = float)\n",
    "c1_m = np.matrix(np.loadtxt(\"/Users/januaryshen/Dropbox/S19 - CSE 547/hw2/q2/data/c1.txt\"), dtype = float)\n",
    "c2_m = np.matrix(np.loadtxt(\"/Users/januaryshen/Dropbox/S19 - CSE 547/hw2/q2/data/c2.txt\"), dtype = float)\n",
    "\n",
    "data_rdd = sc.parallelize(data_m)\n",
    "c1_rdd = sc.parallelize(c1_m)\n",
    "c2_rdd = sc.parallelize(c2_m)"
   ]
  },
  {
   "cell_type": "code",
   "execution_count": 4,
   "metadata": {},
   "outputs": [],
   "source": [
    "MAX_ITER = 20\n",
    "cost_euclid_list_c1 = list()\n",
    "cost_euclid_list_c2 = list()\n",
    "\n",
    "for n in range(MAX_ITER):\n",
    "    cost_euclid_c1 = 0\n",
    "    cost_euclid_c2 = 0\n",
    "    cluster_list_c1 = list()\n",
    "    cluster_list_c2 = list()\n",
    "    \n",
    "    for i in range(len(data_m)):\n",
    "        distance_c1 = float(\"inf\")\n",
    "        distance_c2 = float(\"inf\")\n",
    "        \n",
    "        for j in range(len(c1_m)):\n",
    "            if abs(data_m[i]-c1_m[j]).sum() <= distance_c1:\n",
    "                distance_c1 = abs(data_m[i]-c1_m[j]).sum()\n",
    "                c1_index = j\n",
    "            if abs(data_m[i]-c2_m[j]).sum() <= distance_c2:\n",
    "                distance_c2 = abs(data_m[i]-c2_m[j]).sum()\n",
    "                c2_index = j\n",
    "        \n",
    "        cost_euclid_c1 += distance_c1\n",
    "        cost_euclid_c2 += distance_c2\n",
    "        cluster_list_c1.append((c1_index, i))\n",
    "        cluster_list_c2.append((c2_index, i))\n",
    "    \n",
    "    cost_euclid_list_c1.append((n + 1, cost_euclid_c1))\n",
    "    cost_euclid_list_c2.append((n + 1, cost_euclid_c2))\n",
    "    \n",
    "    for k in range(10):\n",
    "        target_index_c1 = list()\n",
    "        target_index_c2 = list()\n",
    "        centroid_c1 = 0\n",
    "        centroid_c2 = 0\n",
    "        for l in range(len(cluster_list_c1)):\n",
    "            if cluster_list_c1[l][0] == k:\n",
    "                target_index_c1.append(l)\n",
    "        for l in range(len(cluster_list_c2)):\n",
    "            if cluster_list_c2[l][0] == k:\n",
    "                target_index_c2.append(l)\n",
    "        \n",
    "        for m in target_index_c1:\n",
    "            centroid_c1 += data_m[m]\n",
    "        for m in target_index_c2:\n",
    "            centroid_c2 += data_m[m]\n",
    "            \n",
    "        c1_m[k] = centroid_c1/len(target_index_c1) \n",
    "        c2_m[k] = centroid_c2/len(target_index_c2) "
   ]
  },
  {
   "cell_type": "code",
   "execution_count": 5,
   "metadata": {},
   "outputs": [
    {
     "data": {
      "image/png": "[encoded data removed]",
      "text/plain": [
       "<Figure size 432x288 with 1 Axes>"
      ]
     },
     "metadata": {
      "needs_background": "light"
     },
     "output_type": "display_data"
    }
   ],
   "source": [
    "plt.plot(*zip(*cost_euclid_list_c1))\n",
    "plt.plot(*zip(*cost_euclid_list_c2))\n",
    "plt.show()"
   ]
  },
  {
   "cell_type": "code",
   "execution_count": 8,
   "metadata": {},
   "outputs": [
    {
     "data": {
      "text/plain": [
       "[matrix([[  0.   ,   0.64 ,   0.64 ,   0.   ,   0.32 ,   0.   ,   0.   ,\n",
       "            0.   ,   0.   ,   0.   ,   0.   ,   0.64 ,   0.   ,   0.   ,\n",
       "            0.   ,   0.32 ,   0.   ,   1.29 ,   1.93 ,   0.   ,   0.96 ,\n",
       "            0.   ,   0.   ,   0.   ,   0.   ,   0.   ,   0.   ,   0.   ,\n",
       "            0.   ,   0.   ,   0.   ,   0.   ,   0.   ,   0.   ,   0.   ,\n",
       "            0.   ,   0.   ,   0.   ,   0.   ,   0.   ,   0.   ,   0.   ,\n",
       "            0.   ,   0.   ,   0.   ,   0.   ,   0.   ,   0.   ,   0.   ,\n",
       "            0.   ,   0.   ,   0.778,   0.   ,   0.   ,   3.756,  61.   ,\n",
       "          278.   ,   1.   ]]),\n",
       " matrix([[2.100e-01, 2.800e-01, 5.000e-01, 0.000e+00, 1.400e-01,\n",
       "          2.800e-01, 2.100e-01, 7.000e-02, 0.000e+00, 9.400e-01,\n",
       "          2.100e-01, 7.900e-01, 6.500e-01, 2.100e-01, 1.400e-01,\n",
       "          1.400e-01, 7.000e-02, 2.800e-01, 3.470e+00, 0.000e+00,\n",
       "          1.590e+00, 0.000e+00, 4.300e-01, 4.300e-01, 0.000e+00,\n",
       "          0.000e+00, 0.000e+00, 0.000e+00, 0.000e+00, 0.000e+00,\n",
       "          0.000e+00, 0.000e+00, 0.000e+00, 0.000e+00, 0.000e+00,\n",
       "          0.000e+00, 7.000e-02, 0.000e+00, 0.000e+00, 0.000e+00,\n",
       "          0.000e+00, 0.000e+00, 0.000e+00, 0.000e+00, 0.000e+00,\n",
       "          0.000e+00, 0.000e+00, 0.000e+00, 0.000e+00, 1.320e-01,\n",
       "          0.000e+00, 3.720e-01, 1.800e-01, 4.800e-02, 5.114e+00,\n",
       "          1.010e+02, 1.028e+03, 1.000e+00]]),\n",
       " matrix([[6.000e-02, 0.000e+00, 7.100e-01, 0.000e+00, 1.230e+00,\n",
       "          1.900e-01, 1.900e-01, 1.200e-01, 6.400e-01, 2.500e-01,\n",
       "          3.800e-01, 4.500e-01, 1.200e-01, 0.000e+00, 1.750e+00,\n",
       "          6.000e-02, 6.000e-02, 1.030e+00, 1.360e+00, 3.200e-01,\n",
       "          5.100e-01, 0.000e+00, 1.160e+00, 6.000e-02, 0.000e+00,\n",
       "          0.000e+00, 0.000e+00, 0.000e+00, 0.000e+00, 0.000e+00,\n",
       "          0.000e+00, 0.000e+00, 0.000e+00, 0.000e+00, 0.000e+00,\n",
       "          0.000e+00, 0.000e+00, 0.000e+00, 0.000e+00, 6.000e-02,\n",
       "          0.000e+00, 0.000e+00, 1.200e-01, 0.000e+00, 6.000e-02,\n",
       "          6.000e-02, 0.000e+00, 0.000e+00, 1.000e-02, 1.430e-01,\n",
       "          0.000e+00, 2.760e-01, 1.840e-01, 1.000e-02, 9.821e+00,\n",
       "          4.850e+02, 2.259e+03, 1.000e+00]]),\n",
       " matrix([[0.000e+00, 0.000e+00, 0.000e+00, 0.000e+00, 6.300e-01,\n",
       "          0.000e+00, 3.100e-01, 6.300e-01, 3.100e-01, 6.300e-01,\n",
       "          3.100e-01, 3.100e-01, 3.100e-01, 0.000e+00, 0.000e+00,\n",
       "          3.100e-01, 0.000e+00, 0.000e+00, 3.180e+00, 0.000e+00,\n",
       "          3.100e-01, 0.000e+00, 0.000e+00, 0.000e+00, 0.000e+00,\n",
       "          0.000e+00, 0.000e+00, 0.000e+00, 0.000e+00, 0.000e+00,\n",
       "          0.000e+00, 0.000e+00, 0.000e+00, 0.000e+00, 0.000e+00,\n",
       "          0.000e+00, 0.000e+00, 0.000e+00, 0.000e+00, 0.000e+00,\n",
       "          0.000e+00, 0.000e+00, 0.000e+00, 0.000e+00, 0.000e+00,\n",
       "          0.000e+00, 0.000e+00, 0.000e+00, 0.000e+00, 1.370e-01,\n",
       "          0.000e+00, 1.370e-01, 0.000e+00, 0.000e+00, 3.537e+00,\n",
       "          4.000e+01, 1.910e+02, 1.000e+00]]),\n",
       " matrix([[0.000e+00, 0.000e+00, 0.000e+00, 0.000e+00, 6.300e-01,\n",
       "          0.000e+00, 3.100e-01, 6.300e-01, 3.100e-01, 6.300e-01,\n",
       "          3.100e-01, 3.100e-01, 3.100e-01, 0.000e+00, 0.000e+00,\n",
       "          3.100e-01, 0.000e+00, 0.000e+00, 3.180e+00, 0.000e+00,\n",
       "          3.100e-01, 0.000e+00, 0.000e+00, 0.000e+00, 0.000e+00,\n",
       "          0.000e+00, 0.000e+00, 0.000e+00, 0.000e+00, 0.000e+00,\n",
       "          0.000e+00, 0.000e+00, 0.000e+00, 0.000e+00, 0.000e+00,\n",
       "          0.000e+00, 0.000e+00, 0.000e+00, 0.000e+00, 0.000e+00,\n",
       "          0.000e+00, 0.000e+00, 0.000e+00, 0.000e+00, 0.000e+00,\n",
       "          0.000e+00, 0.000e+00, 0.000e+00, 0.000e+00, 1.350e-01,\n",
       "          0.000e+00, 1.350e-01, 0.000e+00, 0.000e+00, 3.537e+00,\n",
       "          4.000e+01, 1.910e+02, 1.000e+00]])]"
      ]
     },
     "execution_count": 8,
     "metadata": {},
     "output_type": "execute_result"
    }
   ],
   "source": [
    "data_rdd.take(5)"
   ]
  },
  {
   "cell_type": "code",
   "execution_count": null,
   "metadata": {},
   "outputs": [],
   "source": []
  }
 ],
 "metadata": {
  "kernelspec": {
   "display_name": "Python 3",
   "language": "python",
   "name": "python3"
  },
  "language_info": {
   "codemirror_mode": {
    "name": "ipython",
    "version": 3
   },
   "file_extension": ".py",
   "mimetype": "text/x-python",
   "name": "python",
   "nbconvert_exporter": "python",
   "pygments_lexer": "ipython3",
   "version": "3.7.3"
  }
 },
 "nbformat": 4,
 "nbformat_minor": 2
}
