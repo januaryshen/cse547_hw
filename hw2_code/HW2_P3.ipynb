{
 "cells": [
  {
   "cell_type": "code",
   "execution_count": 22,
   "metadata": {},
   "outputs": [],
   "source": [
    "import numpy as np\n",
    "import math\n",
    "import matplotlib.pyplot as plt"
   ]
  },
  {
   "cell_type": "code",
   "execution_count": 23,
   "metadata": {},
   "outputs": [],
   "source": [
    "iteration = 40\n",
    "lambda1 = 0.1\n",
    "LRate = 0.01\n",
    "error_list_01 = list()\n",
    "m = 943\n",
    "n = 1682\n",
    "k = 20\n",
    "\n",
    "P = np.random.rand(n,k)*math.sqrt(5/k)\n",
    "Q = np.random.rand(m,k)*math.sqrt(5/k)"
   ]
  },
  {
   "cell_type": "code",
   "execution_count": null,
   "metadata": {},
   "outputs": [],
   "source": [
    "error_list_08 = list()\n",
    "error_list_06 = list()\n",
    "error_list_05 = list()"
   ]
  },
  {
   "cell_type": "code",
   "execution_count": 24,
   "metadata": {},
   "outputs": [],
   "source": [
    "def PQ_update(vec1, vec2, error, lambda1):\n",
    "    return(error*vec1 - 2*lambda1*vec2)"
   ]
  },
  {
   "cell_type": "code",
   "execution_count": 25,
   "metadata": {},
   "outputs": [],
   "source": [
    "for i in range(iteration):\n",
    "    # update Q and P\n",
    "    with open(\"/Users/januaryshen/Dropbox/S19 - CSE 547/hw2/q3/data/ratings.train.txt\") as f:\n",
    "        for line in f:\n",
    "            movie_id, user_id, rating = [int(i) for i in line.split()]\n",
    "            error = 2 *(rating - Q[movie_id-1].dot(P[user_id-1]))\n",
    "\n",
    "            addQ = PQ_update(P[user_id-1], Q[movie_id-1], error, lambda1)\n",
    "            addP = PQ_update(Q[movie_id-1], P[user_id-1], error, lambda1)\n",
    "\n",
    "            Q[movie_id-1] = Q[movie_id-1] + LRate*addQ\n",
    "            P[user_id-1] = P[user_id-1] + LRate*addP\n",
    "\n",
    "    # calculate total error in this iteration\n",
    "    error_sum = 0\n",
    "    with open(\"/Users/januaryshen/Dropbox/S19 - CSE 547/hw2/q3/data/ratings.train.txt\") as f:\n",
    "        for line in f:\n",
    "            movie_id, user_id, rating = [int(i) for i in line.split()]\n",
    "            error_sum += pow(rating - Q[movie_id-1].dot(P[user_id-1]), 2)\n",
    "        error_sum = error_sum + pow(P,2).sum() + pow(Q,2).sum()\n",
    "    error_list_01.append(error_sum)"
   ]
  },
  {
   "cell_type": "code",
   "execution_count": 26,
   "metadata": {},
   "outputs": [
    {
     "data": {
      "image/png": "[encoded data removed]",
      "text/plain": [
       "<Figure size 432x288 with 1 Axes>"
      ]
     },
     "metadata": {
      "needs_background": "light"
     },
     "output_type": "display_data"
    }
   ],
   "source": [
    "# plt.plot(error_dict[0.001])\n",
    "# plt.plot(error_dict[0.01])\n",
    "# plt.plot(error_dict[0.05])\n",
    "# plt.plot(error_dict[0.1])\n",
    "\n",
    "#plt.plot(error_list_08)\n",
    "plt.plot(error_list_01)\n",
    "plt.show()"
   ]
  },
  {
   "cell_type": "code",
   "execution_count": 27,
   "metadata": {},
   "outputs": [
    {
     "data": {
      "text/plain": [
       "[91242.66077327158,\n",
       " 88860.7085839118,\n",
       " 87945.93406752766,\n",
       " 87082.21946180267,\n",
       " 85950.28372057667,\n",
       " 84488.8478022593,\n",
       " 82871.4319932961,\n",
       " 81298.23008547592,\n",
       " 79820.56194214051,\n",
       " 78408.09887457597,\n",
       " 77035.6026866449,\n",
       " 75701.7168139049,\n",
       " 74419.22890975056,\n",
       " 73203.42811655122,\n",
       " 72065.7603211641,\n",
       " 71012.1528428242,\n",
       " 70043.65510764126,\n",
       " 69157.7782472076,\n",
       " 68349.82220319677,\n",
       " 67613.94503258892,\n",
       " 66943.92007966286,\n",
       " 66333.61187882518,\n",
       " 65777.2376572089,\n",
       " 65269.48543672147,\n",
       " 64805.54645562374,\n",
       " 64381.101637539294,\n",
       " 63992.28639977187,\n",
       " 63635.64739689819,\n",
       " 63308.09828773376,\n",
       " 63006.877961526756,\n",
       " 62729.51269713311,\n",
       " 62473.782692451314,\n",
       " 62237.6928611144,\n",
       " 62019.447525585914,\n",
       " 61817.42852468699,\n",
       " 61630.17623468193,\n",
       " 61456.37303642554,\n",
       " 61294.82882037689,\n",
       " 61144.46818905293,\n",
       " 61004.31908198531]"
      ]
     },
     "execution_count": 27,
     "metadata": {},
     "output_type": "execute_result"
    }
   ],
   "source": [
    "error_list_01"
   ]
  },
  {
   "cell_type": "code",
   "execution_count": null,
   "metadata": {},
   "outputs": [],
   "source": []
  }
 ],
 "metadata": {
  "kernelspec": {
   "display_name": "Python 3",
   "language": "python",
   "name": "python3"
  },
  "language_info": {
   "codemirror_mode": {
    "name": "ipython",
    "version": 3
   },
   "file_extension": ".py",
   "mimetype": "text/x-python",
   "name": "python",
   "nbconvert_exporter": "python",
   "pygments_lexer": "ipython3",
   "version": "3.7.3"
  }
 },
 "nbformat": 4,
 "nbformat_minor": 2
}
