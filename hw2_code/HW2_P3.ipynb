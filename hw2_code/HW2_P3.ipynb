{
 "cells": [
  {
   "cell_type": "code",
   "execution_count": 1,
   "metadata": {},
   "outputs": [],
   "source": [
    "import numpy as np\n",
    "import math\n",
    "import matplotlib.pyplot as plt"
   ]
  },
  {
   "cell_type": "code",
   "execution_count": 2,
   "metadata": {},
   "outputs": [],
   "source": [
    "iteration = 40\n",
    "lambda1 = 0.1\n",
    "LRate = 0.01\n",
    "error_list_01 = list()\n",
    "m = 943\n",
    "n = 1682\n",
    "k = 20\n",
    "\n",
    "P = np.random.rand(n,k)*math.sqrt(5/k)\n",
    "Q = np.random.rand(m,k)*math.sqrt(5/k)"
   ]
  },
  {
   "cell_type": "code",
   "execution_count": null,
   "metadata": {},
   "outputs": [],
   "source": [
    "error_list_08 = list()\n",
    "error_list_06 = list()\n",
    "error_list_05 = list()"
   ]
  },
  {
   "cell_type": "code",
   "execution_count": 3,
   "metadata": {},
   "outputs": [],
   "source": [
    "def PQ_update(vec1, vec2, error, lambda1):\n",
    "    return(error*vec1 - 2*lambda1*vec2)"
   ]
  },
  {
   "cell_type": "code",
   "execution_count": 4,
   "metadata": {},
   "outputs": [],
   "source": [
    "for i in range(iteration):\n",
    "    # update Q and P\n",
    "    with open(\"/Users/januaryshen/Dropbox/S19 - CSE 547/hw2/q3/data/ratings.train.txt\") as f:\n",
    "        for line in f:\n",
    "            movie_id, user_id, rating = [int(i) for i in line.split()]\n",
    "            error = 2 *(rating - Q[movie_id-1].dot(P[user_id-1]))\n",
    "\n",
    "            addQ = PQ_update(P[user_id-1], Q[movie_id-1], error, lambda1)\n",
    "            addP = PQ_update(Q[movie_id-1], P[user_id-1], error, lambda1)\n",
    "\n",
    "            Q[movie_id-1] = Q[movie_id-1] + LRate*addQ\n",
    "            P[user_id-1] = P[user_id-1] + LRate*addP\n",
    "\n",
    "    # calculate total error in this iteration\n",
    "    error_sum = 0\n",
    "    with open(\"/Users/januaryshen/Dropbox/S19 - CSE 547/hw2/q3/data/ratings.train.txt\") as f:\n",
    "        for line in f:\n",
    "            movie_id, user_id, rating = [int(i) for i in line.split()]\n",
    "            error_sum += pow(rating - Q[movie_id-1].dot(P[user_id-1]), 2)\n",
    "        error_sum = error_sum + pow(P,2).sum() + pow(Q,2).sum()\n",
    "    error_list_01.append(error_sum)"
   ]
  },
  {
   "cell_type": "code",
   "execution_count": 7,
   "metadata": {},
   "outputs": [
    {
     "data": {
      "image/png": "[encoded data removed]",
      "text/plain": [
       "<Figure size 432x288 with 1 Axes>"
      ]
     },
     "metadata": {
      "needs_background": "light"
     },
     "output_type": "display_data"
    }
   ],
   "source": [
    "# plt.plot(error_dict[0.001])\n",
    "# plt.plot(error_dict[0.01])\n",
    "# plt.plot(error_dict[0.05])\n",
    "# plt.plot(error_dict[0.1])\n",
    "\n",
    "#plt.plot(error_list_08)\n",
    "plt.plot(error_list_01, color = \"green\")\n",
    "plt.xlabel(\"Number of iteration\")\n",
    "plt.ylabel(\"Error\")\n",
    "plt.show()"
   ]
  },
  {
   "cell_type": "code",
   "execution_count": null,
   "metadata": {},
   "outputs": [],
   "source": [
    "error_list_01"
   ]
  },
  {
   "cell_type": "code",
   "execution_count": null,
   "metadata": {},
   "outputs": [],
   "source": []
  }
 ],
 "metadata": {
  "kernelspec": {
   "display_name": "Python 3",
   "language": "python",
   "name": "python3"
  },
  "language_info": {
   "codemirror_mode": {
    "name": "ipython",
    "version": 3
   },
   "file_extension": ".py",
   "mimetype": "text/x-python",
   "name": "python",
   "nbconvert_exporter": "python",
   "pygments_lexer": "ipython3",
   "version": "3.7.3"
  }
 },
 "nbformat": 4,
 "nbformat_minor": 2
}
