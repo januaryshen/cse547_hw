{
 "cells": [
  {
   "cell_type": "code",
   "execution_count": null,
   "metadata": {},
   "outputs": [],
   "source": [
    "import numpy as np"
   ]
  },
  {
   "cell_type": "code",
   "execution_count": null,
   "metadata": {},
   "outputs": [],
   "source": [
    "# load data as matrix\n",
    "data = np.loadtxt(\"/Users/januaryshen/Dropbox/S19 - CSE 547/hw2/q3/data/ratings.train.txt\") \n",
    "data = np.matrix(data)"
   ]
  },
  {
   "cell_type": "code",
   "execution_count": null,
   "metadata": {},
   "outputs": [],
   "source": [
    "np.max(data, axis = 0)"
   ]
  },
  {
   "cell_type": "code",
   "execution_count": null,
   "metadata": {},
   "outputs": [],
   "source": [
    "m = int(np.max(data, axis = 0)[0,0])\n",
    "n = int(np.max(data, axis = 0)[0,1])\n",
    "k = 20\n",
    "\n",
    "Q = np.random.rand(m,k)*np.sqrt(5/k)\n",
    "P = np.random.rand(n,k)*np.sqrt(5/k)"
   ]
  },
  {
   "cell_type": "code",
   "execution_count": null,
   "metadata": {},
   "outputs": [],
   "source": [
    "error = 0\n",
    "iteration = 40\n",
    "lambda1 = 0.1\n",
    "learning = 0.1\n",
    "\n",
    "for i in range(n):\n",
    "    error += 2*int(data[i,2]) - Q[int(data[i,0])].dot(P[int(data[i,1])])\n",
    "    Q[int(data[i,0])] = Q[int(data[i,0])] + learning*(error*P[int(data[i,1])] - 2*lambda1*Q[int(data[i,0])])\n",
    "    P[int(data[i,1])] = P[int(data[i,1])] + learning*(error*Q[int(data[i,0])] - 2*lambda1*P[int(data[i,1])])\n",
    "    print(error)\n",
    "    \n",
    "    "
   ]
  },
  {
   "cell_type": "code",
   "execution_count": null,
   "metadata": {},
   "outputs": [],
   "source": [
    "Q[int(data[1,0])].dot(P[int(data[1,1])])"
   ]
  },
  {
   "cell_type": "code",
   "execution_count": null,
   "metadata": {},
   "outputs": [],
   "source": [
    "sum(P).sum()"
   ]
  },
  {
   "cell_type": "code",
   "execution_count": null,
   "metadata": {},
   "outputs": [],
   "source": [
    "error"
   ]
  },
  {
   "cell_type": "code",
   "execution_count": null,
   "metadata": {},
   "outputs": [],
   "source": [
    "Q.shape"
   ]
  },
  {
   "cell_type": "code",
   "execution_count": null,
   "metadata": {},
   "outputs": [],
   "source": [
    "Q[0].dot(P[0])"
   ]
  },
  {
   "cell_type": "code",
   "execution_count": null,
   "metadata": {},
   "outputs": [],
   "source": [
    "1682*1682*np.sqrt(5/k)"
   ]
  },
  {
   "cell_type": "code",
   "execution_count": null,
   "metadata": {},
   "outputs": [],
   "source": [
    "np.mean(Q)"
   ]
  },
  {
   "cell_type": "code",
   "execution_count": null,
   "metadata": {},
   "outputs": [],
   "source": [
    "error*P[int(data[i,1])]"
   ]
  },
  {
   "cell_type": "code",
   "execution_count": null,
   "metadata": {},
   "outputs": [],
   "source": []
  }
 ],
 "metadata": {
  "kernelspec": {
   "display_name": "Python 3",
   "language": "python",
   "name": "python3"
  },
  "language_info": {
   "codemirror_mode": {
    "name": "ipython",
    "version": 3
   },
   "file_extension": ".py",
   "mimetype": "text/x-python",
   "name": "python",
   "nbconvert_exporter": "python",
   "pygments_lexer": "ipython3",
   "version": "3.7.3"
  }
 },
 "nbformat": 4,
 "nbformat_minor": 2
}
