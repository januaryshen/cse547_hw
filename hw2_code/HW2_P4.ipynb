{
 "cells": [
  {
   "cell_type": "code",
   "execution_count": 31,
   "metadata": {},
   "outputs": [],
   "source": [
    "import numpy as np\n",
    "import math"
   ]
  },
  {
   "cell_type": "code",
   "execution_count": 62,
   "metadata": {},
   "outputs": [],
   "source": [
    "data = np.loadtxt(\"/Users/januaryshen/Dropbox/S19 - CSE 547/hw2/q4/data/user-shows.txt\")\n",
    "with open(\"/Users/januaryshen/Dropbox/S19 - CSE 547/hw2/q4/data/shows.txt\") as f:\n",
    "    movies = f.read().splitlines()"
   ]
  },
  {
   "cell_type": "code",
   "execution_count": 15,
   "metadata": {},
   "outputs": [],
   "source": [
    "m = data.shape[0]\n",
    "n = data.shape[1]"
   ]
  },
  {
   "cell_type": "code",
   "execution_count": 25,
   "metadata": {},
   "outputs": [],
   "source": [
    "P = np.diag(np.diag(data.dot(data.T)))\n",
    "Q = np.diag(np.diag(data.T.dot(data)))"
   ]
  },
  {
   "cell_type": "code",
   "execution_count": 87,
   "metadata": {},
   "outputs": [
    {
     "name": "stdout",
     "output_type": "stream",
     "text": [
      "\"FOX 28 News at 10pm\" \n",
      " Similarity = 908.48\n",
      "\"Family Guy\" \n",
      " Similarity = 861.18\n",
      "\"2009 NCAA Basketball Tournament\" \n",
      " Similarity = 827.60\n",
      "\"NBC 4 at Eleven\" \n",
      " Similarity = 784.78\n",
      "\"Two and a Half Men\" \n",
      " Similarity = 757.60\n"
     ]
    }
   ],
   "source": [
    "# user-user\n",
    "RecU = np.divide(1, np.sqrt(P), where = np.sqrt(P)!= 0).dot(data).dot(data.T).dot(np.divide(1, np.sqrt(P), where = np.sqrt(P)!= 0)).dot(data)\n",
    "AlexU = RecU[499, 0:99]\n",
    "AlexU_Index = AlexU.argsort()[-5:][::-1]\n",
    "for i in AlexU_Index:\n",
    "    print(movies[i], \"\\n Similarity = %.2f\" % AlexU[i])"
   ]
  },
  {
   "cell_type": "code",
   "execution_count": 86,
   "metadata": {},
   "outputs": [
    {
     "name": "stdout",
     "output_type": "stream",
     "text": [
      "\"FOX 28 News at 10pm\" \n",
      " Similarity = 31.36\n",
      "\"Family Guy\" \n",
      " Similarity = 30.00\n",
      "\"NBC 4 at Eleven\" \n",
      " Similarity = 29.40\n",
      "\"2009 NCAA Basketball Tournament\" \n",
      " Similarity = 29.23\n",
      "\"Access Hollywood\" \n",
      " Similarity = 28.97\n"
     ]
    }
   ],
   "source": [
    "# item-item\n",
    "RecI = data.dot(np.divide(1, np.sqrt(Q), where = np.sqrt(Q)!= 0)).dot(data.T).dot(data).dot(np.divide(1, np.sqrt(Q), where = np.sqrt(Q)!= 0))\n",
    "AlexI = RecI[499, 0:99]\n",
    "AlexI_Index = AlexI.argsort()[-5:][::-1]\n",
    "for i in AlexI_Index:\n",
    "    print(movies[i], \"\\n Similarity = %.2f\" % AlexI[i])\n",
    "    \n",
    "    "
   ]
  },
  {
   "cell_type": "code",
   "execution_count": null,
   "metadata": {},
   "outputs": [],
   "source": []
  }
 ],
 "metadata": {
  "kernelspec": {
   "display_name": "Python 3",
   "language": "python",
   "name": "python3"
  },
  "language_info": {
   "codemirror_mode": {
    "name": "ipython",
    "version": 3
   },
   "file_extension": ".py",
   "mimetype": "text/x-python",
   "name": "python",
   "nbconvert_exporter": "python",
   "pygments_lexer": "ipython3",
   "version": "3.7.3"
  }
 },
 "nbformat": 4,
 "nbformat_minor": 2
}
