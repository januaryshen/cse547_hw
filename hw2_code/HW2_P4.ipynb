{
 "cells": [
  {
   "cell_type": "code",
   "execution_count": 31,
   "metadata": {},
   "outputs": [],
   "source": [
    "import numpy as np\n",
    "import math"
   ]
  },
  {
   "cell_type": "code",
   "execution_count": 62,
   "metadata": {},
   "outputs": [],
   "source": [
    "data = np.loadtxt(\"/Users/januaryshen/Dropbox/S19 - CSE 547/hw2/q4/data/user-shows.txt\")\n",
    "with open(\"/Users/januaryshen/Dropbox/S19 - CSE 547/hw2/q4/data/shows.txt\") as f:\n",
    "    movies = f.read().splitlines()"
   ]
  },
  {
   "cell_type": "code",
   "execution_count": 15,
   "metadata": {},
   "outputs": [],
   "source": [
    "m = data.shape[0]\n",
    "n = data.shape[1]"
   ]
  },
  {
   "cell_type": "code",
   "execution_count": 25,
   "metadata": {},
   "outputs": [],
   "source": [
    "P = np.diag(np.diag(data.dot(data.T)))\n",
    "Q = np.diag(np.diag(data.T.dot(data)))"
   ]
  },
  {
   "cell_type": "code",
   "execution_count": 96,
   "metadata": {},
   "outputs": [
    {
     "name": "stdout",
     "output_type": "stream",
     "text": [
      "\"Gangland\" \n",
      " Similarity = 1274.40\n",
      "\"American Idol\" \n",
      " Similarity = 1189.74\n",
      "\"The Simpsons\" \n",
      " Similarity = 1176.38\n",
      "\"The Penguins of Madagascar\" \n",
      " Similarity = 1113.91\n",
      "\"Today Weekend\" \n",
      " Similarity = 1087.15\n"
     ]
    }
   ],
   "source": [
    "# user-user\n",
    "RecU = np.divide(1, np.sqrt(P), where = np.sqrt(P)!= 0).dot(data).dot(data.T).dot(np.divide(1, np.sqrt(P), where = np.sqrt(P)!= 0)).dot(data)\n",
    "AlexU = RecU[499, 0:100]\n",
    "AlexU_Index = AlexU.argsort()[-5:][::-1]\n",
    "for i in AlexU_Index:\n",
    "    print(movies[i], \"\\n Similarity = %.2f\" % AlexU[i])"
   ]
  },
  {
   "cell_type": "code",
   "execution_count": 97,
   "metadata": {},
   "outputs": [
    {
     "name": "stdout",
     "output_type": "stream",
     "text": [
      "\"American Idol\" \n",
      " Similarity = 34.46\n",
      "\"Gangland\" \n",
      " Similarity = 34.07\n",
      "\"Today Weekend\" \n",
      " Similarity = 32.91\n",
      "\"Late Night with Jimmy Fallon\" \n",
      " Similarity = 32.65\n",
      "\"Huckabee\" \n",
      " Similarity = 32.06\n"
     ]
    }
   ],
   "source": [
    "# item-item\n",
    "RecI = data.dot(np.divide(1, np.sqrt(Q), where = np.sqrt(Q)!= 0)).dot(data.T).dot(data).dot(np.divide(1, np.sqrt(Q), where = np.sqrt(Q)!= 0))\n",
    "AlexI = RecI[499, 0:100]\n",
    "AlexI_Index = AlexI.argsort()[-5:][::-1]\n",
    "for i in AlexI_Index:\n",
    "    print(movies[i], \"\\n Similarity = %.2f\" % AlexI[i])\n",
    "    "
   ]
  }
 ],
 "metadata": {
  "kernelspec": {
   "display_name": "Python 3",
   "language": "python",
   "name": "python3"
  },
  "language_info": {
   "codemirror_mode": {
    "name": "ipython",
    "version": 3
   },
   "file_extension": ".py",
   "mimetype": "text/x-python",
   "name": "python",
   "nbconvert_exporter": "python",
   "pygments_lexer": "ipython3",
   "version": "3.7.3"
  }
 },
 "nbformat": 4,
 "nbformat_minor": 2
}
