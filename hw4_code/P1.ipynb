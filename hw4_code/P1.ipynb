{
 "cells": [
  {
   "cell_type": "code",
   "execution_count": 1,
   "metadata": {},
   "outputs": [],
   "source": [
    "import numpy as np\n",
    "from sklearn.utils import shuffle\n",
    "import math\n",
    "import time\n",
    "import matplotlib.pyplot as plt"
   ]
  },
  {
   "cell_type": "code",
   "execution_count": 2,
   "metadata": {},
   "outputs": [],
   "source": [
    "path1 = \"C:/Users/chi12/Downloads/hw4-bundle.tar/q1/data/features.txt\"\n",
    "path2 = \"C:/Users/chi12/Downloads/hw4-bundle.tar/q1/data/target.txt\"\n",
    "x = np.matrix(np.loadtxt(path1, delimiter = ','))\n",
    "y = np.matrix(np.loadtxt(path2, delimiter = ',')).reshape(x.shape[0],1)"
   ]
  },
  {
   "cell_type": "code",
   "execution_count": 3,
   "metadata": {},
   "outputs": [],
   "source": [
    "def get_v_determinant(w, x, y, b):\n",
    "    return np.multiply((x.dot(w)+ b), y)   # should return (6414, 1) matrix for BGD\n",
    "\n",
    "def leave_only_less_than_one(v): # input vector\n",
    "    v = 1 - v\n",
    "    v[v < 0] = 0\n",
    "    return(v)   \n",
    "\n",
    "def get_cost(w, x, y, b, C):\n",
    "    c_w = 1/2*pow(np.linalg.norm(w),2)\n",
    "    c_det = C * leave_only_less_than_one(get_v_determinant(w, x, y, b)).sum()\n",
    "    return(c_w + c_det)\n",
    "\n",
    "def cost_change(cost_prior, cost_after):\n",
    "    return(abs(cost_prior-cost_after)*100/cost_prior)\n",
    "\n",
    "def update_w(v_det, x, y):\n",
    "    target_m = np.multiply(x, -y)\n",
    "    filter_v = np.array([v_det]*x.shape[1]).T[0]\n",
    "    target_m[filter_v >= 1] = 0\n",
    "    return_v = target_m.sum(axis = 0)\n",
    "    return return_v.reshape(x.shape[1],1)\n",
    "\n",
    "def update_b(v_det, y):\n",
    "    target_m = -y.reshape(y.shape[0],1)\n",
    "    target_m[v_det >= 1] = 0\n",
    "    return_b = target_m.sum(axis = 0)\n",
    "    return return_b\n"
   ]
  },
  {
   "cell_type": "markdown",
   "metadata": {},
   "source": [
    "## 1. BGD"
   ]
  },
  {
   "cell_type": "code",
   "execution_count": 4,
   "metadata": {},
   "outputs": [
    {
     "name": "stdout",
     "output_type": "stream",
     "text": [
      "BGD converged in 57 times of iteration, running 1.06 seconds.\n"
     ]
    }
   ],
   "source": [
    "eta_BGD = 3*pow(10, -7)\n",
    "epsilon_BGD = 0.25\n",
    "w = np.zeros(x.shape[1]).reshape(x.shape[1], 1)\n",
    "b = np.zeros(1)\n",
    "C = 100\n",
    "k = 0\n",
    "change_BGD = 1 # random number that's bigger than epsilon\n",
    "new_w = np.zeros(x.shape[1]).reshape(x.shape[1], 1)\n",
    "\n",
    "cost_prior = get_cost(w, x, y, b, C)\n",
    "cost_list_BGD = [(0, cost_prior)]\n",
    "\n",
    "startT = time.time()\n",
    "while change_BGD > epsilon_BGD:\n",
    "    \n",
    "    v_det = get_v_determinant(w, x, y, b)\n",
    "    new_w = w - eta_BGD * (w + C * update_w(v_det, x, y))\n",
    "    b = b - eta_BGD * C * update_b(v_det, y)\n",
    "    w = new_w\n",
    "    \n",
    "    k = k + 1\n",
    "    \n",
    "    cost_after = get_cost(w, x, y, b, C)\n",
    "    cost_list_BGD.append((k, cost_after))\n",
    "    change_BGD = cost_change(cost_prior, cost_after)\n",
    "    cost_prior = cost_after\n",
    "\n",
    "endT = time.time()\n",
    "print(\"BGD converged in\", k ,\"times of iteration, running %.2f\" % (endT - startT), \"seconds.\")"
   ]
  },
  {
   "cell_type": "markdown",
   "metadata": {},
   "source": [
    "## 3. Mini BGD"
   ]
  },
  {
   "cell_type": "code",
   "execution_count": 5,
   "metadata": {},
   "outputs": [
    {
     "name": "stdout",
     "output_type": "stream",
     "text": [
      "MBGD converged in 1309 times of iteration, running 0.82 seconds.\n"
     ]
    }
   ],
   "source": [
    "x, y = shuffle(x, y, random_state=123)\n",
    "\n",
    "k = 0\n",
    "epsilon_MBGD = 0.01\n",
    "eta_MBGD = pow(10, -5)\n",
    "w = np.zeros(x.shape[1]).reshape(x.shape[1], 1)\n",
    "new_w = np.zeros(x.shape[1]).reshape(x.shape[1], 1)\n",
    "b = 0\n",
    "C = 100\n",
    "B = 20\n",
    "l = 0\n",
    "\n",
    "change_MBGD = 1 # random number as long as it's bigger than epsilon\n",
    "last_change = 0\n",
    "cost_prior = get_cost(w, x, y, b, C)\n",
    "cost_list_MBGD = [(0, cost_prior)]\n",
    "\n",
    "startT = time.time()\n",
    "while change_MBGD > epsilon_MBGD:\n",
    "    \n",
    "    start = l*B + 1\n",
    "    end = min(x.shape[0], (l+1)*B)\n",
    "    \n",
    "    mb_det = get_v_determinant(w, x[start:end], y[start:end], b)\n",
    "    new_w = w - eta_MBGD * (w + C * update_w(mb_det, x[start:end], y[start:end]))\n",
    "    b = b - eta_MBGD * C * update_b(mb_det, y[start:end])\n",
    "    w = new_w\n",
    "    \n",
    "    k += 1\n",
    "    l = (l + 1) % math.ceil(x.shape[0]/B)\n",
    "    \n",
    "    cost_after = get_cost(w, x, y, b, C)\n",
    "    change_MBGD = 0.5*last_change + 0.5*cost_change(cost_prior, cost_after)\n",
    "    last_change = change_MBGD\n",
    "    cost_prior = cost_after\n",
    "    \n",
    "    cost_list_MBGD.append((k, cost_after))\n",
    "\n",
    "endT = time.time()\n",
    "print(\"MBGD converged in\", k ,\"times of iteration, running %.2f\" % (endT - startT), \"seconds.\")"
   ]
  },
  {
   "cell_type": "markdown",
   "metadata": {},
   "source": [
    "## 2. SGD"
   ]
  },
  {
   "cell_type": "code",
   "execution_count": 6,
   "metadata": {},
   "outputs": [
    {
     "name": "stdout",
     "output_type": "stream",
     "text": [
      "SGD converged in 2430 times of iteration, running 1.82 seconds.\n"
     ]
    }
   ],
   "source": [
    "x, y = shuffle(x, y, random_state=123)\n",
    "\n",
    "eta_SGD = 0.0001\n",
    "epsilon_SGD = 0.001\n",
    "\n",
    "w = np.zeros(x.shape[1]).reshape(x.shape[1], 1)\n",
    "new_w = np.zeros(x.shape[1]).reshape(x.shape[1], 1)\n",
    "\n",
    "b = 0\n",
    "k = 0\n",
    "i = 1\n",
    "C = 100\n",
    "\n",
    "last_change = 0 # set the initial change as 0\n",
    "change_SGD = 1 # random as long as it's bigger than eta\n",
    "cost_prior = get_cost(w, x, y, b, C)\n",
    "cost_list_SGD = [(0, cost_prior)]\n",
    "\n",
    "startT = time.time()\n",
    "while change_SGD > epsilon_SGD:\n",
    "    \n",
    "    s_det = get_v_determinant(w, x[i-1], y[i-1], b)\n",
    "    \n",
    "    new_w = w - eta_SGD * (w + C * update_w(s_det, x[i-1], y[i-1]))\n",
    "    b = b - eta_SGD * C * update_b(s_det, y[i-1])\n",
    "    w = new_w\n",
    "    \n",
    "    cost_after = get_cost(w, x, y, b, C)\n",
    "    change_SGD = 0.5*last_change + 0.5*cost_change(cost_prior, cost_after)\n",
    "    last_change = change_SGD\n",
    "    cost_list_SGD.append((k, cost_after))\n",
    "    cost_prior = cost_after\n",
    "    \n",
    "    k += 1\n",
    "    i = (i % x.shape[0]) + 1\n",
    "\n",
    "endT = time.time()\n",
    "print(\"SGD converged in\", k ,\"times of iteration, running %.2f\" % (endT - startT), \"seconds.\")"
   ]
  },
  {
   "cell_type": "code",
   "execution_count": 7,
   "metadata": {},
   "outputs": [
    {
     "data": {
      "image/png": "[encoded data removed]",
      "text/plain": [
       "<Figure size 432x288 with 1 Axes>"
      ]
     },
     "metadata": {
      "needs_background": "light"
     },
     "output_type": "display_data"
    }
   ],
   "source": [
    "plt.plot(*zip(*cost_list_BGD))\n",
    "plt.plot(*zip(*cost_list_SGD))\n",
    "plt.plot(*zip(*cost_list_MBGD))\n",
    "plt.legend(['BGD', 'SGD', 'MBGD'])\n",
    "plt.xlabel(\"iterations\")\n",
    "plt.ylabel(\"cost\")\n",
    "plt.savefig(\"HW4P1.png\")\n",
    "plt.show()"
   ]
  },
  {
   "cell_type": "code",
   "execution_count": null,
   "metadata": {},
   "outputs": [],
   "source": []
  }
 ],
 "metadata": {
  "kernelspec": {
   "display_name": "Python 3",
   "language": "python",
   "name": "python3"
  },
  "language_info": {
   "codemirror_mode": {
    "name": "ipython",
    "version": 3
   },
   "file_extension": ".py",
   "mimetype": "text/x-python",
   "name": "python",
   "nbconvert_exporter": "python",
   "pygments_lexer": "ipython3",
   "version": "3.7.1"
  }
 },
 "nbformat": 4,
 "nbformat_minor": 2
}
