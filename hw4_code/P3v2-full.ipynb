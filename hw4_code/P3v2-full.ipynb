{
 "cells": [
  {
   "cell_type": "code",
   "execution_count": 1,
   "metadata": {},
   "outputs": [],
   "source": [
    "import math\n",
    "import numpy as np\n",
    "import matplotlib.pyplot as plt\n",
    "import time"
   ]
  },
  {
   "cell_type": "code",
   "execution_count": 2,
   "metadata": {},
   "outputs": [],
   "source": [
    "path_hash = \"/Users/januaryshen/Dropbox/S19 - CSE 547/hw4/q4/data/hash_params.txt\"\n",
    "path_word = \"/Users/januaryshen/Dropbox/S19 - CSE 547/hw4/q4/data/words_stream.txt\"\n",
    "path_word_freq = \"/Users/januaryshen/Dropbox/S19 - CSE 547/hw4/q4/data/counts.txt\"\n",
    "\n",
    "hash_f = np.matrix(np.loadtxt(path_hash, delimiter = '\\t'))\n",
    "x = np.loadtxt(path_word)\n",
    "word_freq = np.loadtxt(path_word_freq)"
   ]
  },
  {
   "cell_type": "code",
   "execution_count": 3,
   "metadata": {},
   "outputs": [],
   "source": [
    "def hash_fun_to_dict(a, b, p, n_buckets, x, dict_h):\n",
    "    for i in range(len(x)):\n",
    "        y = x[i] % p\n",
    "        hash_val = (a*y + b) % p\n",
    "        pos = hash_val % n_buckets\n",
    "        dict_h[pos] = dict_h.get(pos, 0) + 1\n",
    "    return dict_h\n",
    "\n",
    "def hash_fun(a, b, p, n_buckets, x):\n",
    "    y = x % p\n",
    "    hash_val = (a*y + b) % p\n",
    "    return hash_val % n_buckets\n",
    "\n",
    "def get_hash(target, hash_f):\n",
    "    return hash_f[target, 0], hash_f[target, 1]\n",
    "\n",
    "def get_F(path_word_freq, target):\n",
    "    with open(path_word_freq) as f:\n",
    "        for line in f:\n",
    "            word = line.split()\n",
    "            if int(word[0]) == target:\n",
    "                return int(word[1])\n",
    "        \n",
    "def get_Ftelda(buckets, target):\n",
    "    min_count = pow(10,5)  # assign a super big number\n",
    "    for i in range(hash_f.shape[0]):\n",
    "        a, b = (hash_f[i, 0], hash_f[i, 1])\n",
    "        pos = hash_fun(a, b, p, n_buckets, target)\n",
    "        if min_count > buckets[i][pos]:\n",
    "            min_count = buckets[i][pos]\n",
    "    return min_count\n",
    "\n",
    "def rel_error(Ftelda, F):\n",
    "    return (Ftelda-F)/F"
   ]
  },
  {
   "cell_type": "code",
   "execution_count": 4,
   "metadata": {},
   "outputs": [],
   "source": [
    "p = 123457\n",
    "epsilon = math.e * pow(10, -4)\n",
    "delta = pow(math.e, -5)\n",
    "n_buckets = math.ceil(math.e/epsilon)\n",
    "t = len(x)\n",
    "\n",
    "hsd1 = dict()\n",
    "hsd2 = dict()\n",
    "hsd3 = dict()\n",
    "hsd4 = dict()\n",
    "hsd5 = dict()\n",
    "\n",
    "buckets = [hsd1, hsd2, hsd3, hsd4, hsd5]\n",
    "\n",
    "for i in range(hash_f.shape[0]):\n",
    "    a, b = get_hash(i, hash_f)\n",
    "    hash_fun_to_dict(a, b, p, n_buckets, x, buckets[i])\n",
    "    \n",
    "# cheating\n",
    "actual_d = dict()\n",
    "for j in range(t):\n",
    "    actual_d[x[j]] = actual_d.get(x[j], 0) + 1\n",
    "    "
   ]
  },
  {
   "cell_type": "code",
   "execution_count": 5,
   "metadata": {},
   "outputs": [
    {
     "name": "stdout",
     "output_type": "stream",
     "text": [
      "total time: 31.20\n"
     ]
    }
   ],
   "source": [
    "start = time.time()\n",
    "\n",
    "# relError = [(get_F(path_word_freq, 1)/t, rel_error(get_Ftelda(buckets, 1), get_F(path_word_freq, 1)))]\n",
    "# for i in range(2, t):\n",
    "#     relError.append((get_F(path_word_freq, i)/t, rel_error(get_Ftelda(buckets, i), get_F(path_word_freq, i))))\n",
    "\n",
    "# cheating\n",
    "relError = [(actual_d[1]/t, rel_error(get_Ftelda(buckets, 1), actual_d[1]))]\n",
    "for i in range(2, len(actual_d)):\n",
    "    relError.append((actual_d[i]/t, rel_error(get_Ftelda(buckets, i), actual_d[i])))\n",
    "\n",
    "end = time.time()\n",
    "print(\"total time: %.2f\" % (end-start))"
   ]
  },
  {
   "cell_type": "code",
   "execution_count": 6,
   "metadata": {},
   "outputs": [
    {
     "data": {
      "image/png": "[encoded data removed]",
      "text/plain": [
       "<Figure size 432x288 with 1 Axes>"
      ]
     },
     "metadata": {
      "needs_background": "light"
     },
     "output_type": "display_data"
    }
   ],
   "source": [
    "plt.plot(*zip(*relError), \".\")\n",
    "plt.xlabel(\"Frequency of words\")\n",
    "plt.xscale('log')\n",
    "plt.ylabel(\"Relative error\")\n",
    "plt.yscale('log')\n",
    "plt.title(\"Frequency of words vs. Relative error with Hash functions\")\n",
    "plt.grid()\n",
    "plt.savefig(\"HW4P3.png\")\n",
    "plt.show()"
   ]
  }
 ],
 "metadata": {
  "kernelspec": {
   "display_name": "Python 3",
   "language": "python",
   "name": "python3"
  },
  "language_info": {
   "codemirror_mode": {
    "name": "ipython",
    "version": 3
   },
   "file_extension": ".py",
   "mimetype": "text/x-python",
   "name": "python",
   "nbconvert_exporter": "python",
   "pygments_lexer": "ipython3",
   "version": "3.7.3"
  }
 },
 "nbformat": 4,
 "nbformat_minor": 2
}
