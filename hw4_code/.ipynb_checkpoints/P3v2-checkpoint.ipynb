{
 "cells": [
  {
   "cell_type": "code",
   "execution_count": 1,
   "metadata": {},
   "outputs": [],
   "source": [
    "import math\n",
    "import numpy as np\n",
    "import matplotlib.pyplot as plt\n",
    "import time"
   ]
  },
  {
   "cell_type": "code",
   "execution_count": 2,
   "metadata": {},
   "outputs": [],
   "source": [
    "path_hash = \"/Users/januaryshen/Dropbox/S19 - CSE 547/hw4/q4/data/hash_params.txt\"\n",
    "path_word = \"/Users/januaryshen/Dropbox/S19 - CSE 547/hw4/q4/data/words_stream_tiny.txt\"\n",
    "path_word_freq = \"/Users/januaryshen/Dropbox/S19 - CSE 547/hw4/q4/data/counts_tiny.txt\"\n",
    "\n",
    "hash_f = np.matrix(np.loadtxt(path_hash, delimiter = '\\t'))\n",
    "x = np.loadtxt(path_word)\n",
    "word_freq = np.loadtxt(path_word_freq)"
   ]
  },
  {
   "cell_type": "code",
   "execution_count": 3,
   "metadata": {},
   "outputs": [],
   "source": [
    "def hash_fun_to_dict(a, b, p, n_buckets, x, dict_h):\n",
    "    for i in range(len(x)):\n",
    "        y = x[i] % p\n",
    "        hash_val = (a*y + b) % p\n",
    "        pos = hash_val % n_buckets\n",
    "        dict_h[pos] = dict_h.get(pos, 0) + 1\n",
    "    return dict_h\n",
    "\n",
    "def hash_fun(a, b, p, n_buckets, x):\n",
    "    y = x % p\n",
    "    hash_val = (a*y + b) % p\n",
    "    return hash_val % n_buckets\n",
    "\n",
    "def get_hash(target, hash_f):\n",
    "    return hash_f[target, 0], hash_f[target, 1]\n",
    "\n",
    "def get_F(path_word_freq, target):\n",
    "    with open(path_word_freq) as f:\n",
    "        for line in f:\n",
    "            word = line.split()\n",
    "            if int(word[0]) == target:\n",
    "                return int(word[1])\n",
    "        \n",
    "def get_Ftelda(buckets, target):\n",
    "    min_count = pow(10,5)  # assign a super big number\n",
    "    for i in range(hash_f.shape[0]):\n",
    "        a, b = (hash_f[i, 0], hash_f[i, 1])\n",
    "        pos = hash_fun(a, b, p, n_buckets, target)\n",
    "        if min_count > buckets[i][pos]:\n",
    "            min_count = buckets[i][pos]\n",
    "    return min_count\n",
    "\n",
    "def rel_error(Ftelda, F):\n",
    "    return (Ftelda-F)/F"
   ]
  },
  {
   "cell_type": "code",
   "execution_count": 7,
   "metadata": {},
   "outputs": [
    {
     "data": {
      "text/plain": [
       "244629"
      ]
     },
     "execution_count": 7,
     "metadata": {},
     "output_type": "execute_result"
    }
   ],
   "source": [
    "get_F(path_word_freq, 6)"
   ]
  },
  {
   "cell_type": "code",
   "execution_count": 4,
   "metadata": {},
   "outputs": [],
   "source": [
    "start = time.time()\n",
    "\n",
    "p = 123457\n",
    "epsilon = math.e * pow(10, -4)\n",
    "delta = pow(math.e, -5)\n",
    "n_buckets = math.ceil(math.e/epsilon)\n",
    "t = len(x)\n",
    "\n",
    "hsd1 = dict()\n",
    "hsd2 = dict()\n",
    "hsd3 = dict()\n",
    "hsd4 = dict()\n",
    "hsd5 = dict()\n",
    "\n",
    "buckets = [hsd1, hsd2, hsd3, hsd4, hsd5]\n",
    "\n",
    "for i in range(hash_f.shape[0]):\n",
    "    a, b = get_hash(i, hash_f)\n",
    "    hash_fun_to_dict(a, b, p, n_buckets, x, buckets[i])\n",
    "\n",
    "# cheating\n",
    "# actual_d = dict()\n",
    "# for j in range(t):\n",
    "#     actual_d[x[j]] = actual_d.get(x[j], 0) + 1\n",
    "\n",
    "end = time.time()\n",
    "print(\"total time: %.2f\" % (end-start))"
   ]
  },
  {
   "cell_type": "code",
   "execution_count": 5,
   "metadata": {},
   "outputs": [
    {
     "ename": "KeyboardInterrupt",
     "evalue": "",
     "output_type": "error",
     "traceback": [
      "\u001b[0;31m---------------------------------------------------------------------------\u001b[0m",
      "\u001b[0;31mKeyboardInterrupt\u001b[0m                         Traceback (most recent call last)",
      "\u001b[0;32m<ipython-input-5-a04c842e09b0>\u001b[0m in \u001b[0;36m<module>\u001b[0;34m\u001b[0m\n\u001b[1;32m      3\u001b[0m \u001b[0mrelError\u001b[0m \u001b[0;34m=\u001b[0m \u001b[0;34m[\u001b[0m\u001b[0;34m(\u001b[0m\u001b[0mget_F\u001b[0m\u001b[0;34m(\u001b[0m\u001b[0mpath_word_freq\u001b[0m\u001b[0;34m,\u001b[0m \u001b[0;36m1\u001b[0m\u001b[0;34m)\u001b[0m\u001b[0;34m/\u001b[0m\u001b[0mt\u001b[0m\u001b[0;34m,\u001b[0m \u001b[0mrel_error\u001b[0m\u001b[0;34m(\u001b[0m\u001b[0mget_Ftelda\u001b[0m\u001b[0;34m(\u001b[0m\u001b[0mbuckets\u001b[0m\u001b[0;34m,\u001b[0m \u001b[0;36m1\u001b[0m\u001b[0;34m)\u001b[0m\u001b[0;34m,\u001b[0m \u001b[0mget_F\u001b[0m\u001b[0;34m(\u001b[0m\u001b[0mpath_word_freq\u001b[0m\u001b[0;34m,\u001b[0m \u001b[0;36m1\u001b[0m\u001b[0;34m)\u001b[0m\u001b[0;34m)\u001b[0m\u001b[0;34m)\u001b[0m\u001b[0;34m]\u001b[0m\u001b[0;34m\u001b[0m\u001b[0;34m\u001b[0m\u001b[0m\n\u001b[1;32m      4\u001b[0m \u001b[0;32mfor\u001b[0m \u001b[0mi\u001b[0m \u001b[0;32min\u001b[0m \u001b[0mrange\u001b[0m\u001b[0;34m(\u001b[0m\u001b[0;36m2\u001b[0m\u001b[0;34m,\u001b[0m \u001b[0mt\u001b[0m\u001b[0;34m)\u001b[0m\u001b[0;34m:\u001b[0m\u001b[0;34m\u001b[0m\u001b[0;34m\u001b[0m\u001b[0m\n\u001b[0;32m----> 5\u001b[0;31m     \u001b[0mrelError\u001b[0m\u001b[0;34m.\u001b[0m\u001b[0mappend\u001b[0m\u001b[0;34m(\u001b[0m\u001b[0;34m(\u001b[0m\u001b[0mget_F\u001b[0m\u001b[0;34m(\u001b[0m\u001b[0mpath_word_freq\u001b[0m\u001b[0;34m,\u001b[0m \u001b[0mi\u001b[0m\u001b[0;34m)\u001b[0m\u001b[0;34m/\u001b[0m\u001b[0mt\u001b[0m\u001b[0;34m,\u001b[0m \u001b[0mrel_error\u001b[0m\u001b[0;34m(\u001b[0m\u001b[0mget_Ftelda\u001b[0m\u001b[0;34m(\u001b[0m\u001b[0mbuckets\u001b[0m\u001b[0;34m,\u001b[0m \u001b[0mi\u001b[0m\u001b[0;34m)\u001b[0m\u001b[0;34m,\u001b[0m \u001b[0mget_F\u001b[0m\u001b[0;34m(\u001b[0m\u001b[0mpath_word_freq\u001b[0m\u001b[0;34m,\u001b[0m \u001b[0mi\u001b[0m\u001b[0;34m)\u001b[0m\u001b[0;34m)\u001b[0m\u001b[0;34m)\u001b[0m\u001b[0;34m)\u001b[0m\u001b[0;34m\u001b[0m\u001b[0;34m\u001b[0m\u001b[0m\n\u001b[0m\u001b[1;32m      6\u001b[0m \u001b[0;34m\u001b[0m\u001b[0m\n\u001b[1;32m      7\u001b[0m \u001b[0;31m# cheating\u001b[0m\u001b[0;34m\u001b[0m\u001b[0;34m\u001b[0m\u001b[0;34m\u001b[0m\u001b[0m\n",
      "\u001b[0;32m<ipython-input-3-5441dab5fbde>\u001b[0m in \u001b[0;36mget_F\u001b[0;34m(path_word_freq, target)\u001b[0m\n\u001b[1;32m     19\u001b[0m         \u001b[0;32mfor\u001b[0m \u001b[0mline\u001b[0m \u001b[0;32min\u001b[0m \u001b[0mf\u001b[0m\u001b[0;34m:\u001b[0m\u001b[0;34m\u001b[0m\u001b[0;34m\u001b[0m\u001b[0m\n\u001b[1;32m     20\u001b[0m             \u001b[0mword\u001b[0m \u001b[0;34m=\u001b[0m \u001b[0mline\u001b[0m\u001b[0;34m.\u001b[0m\u001b[0msplit\u001b[0m\u001b[0;34m(\u001b[0m\u001b[0;34m)\u001b[0m\u001b[0;34m\u001b[0m\u001b[0;34m\u001b[0m\u001b[0m\n\u001b[0;32m---> 21\u001b[0;31m             \u001b[0;32mif\u001b[0m \u001b[0mint\u001b[0m\u001b[0;34m(\u001b[0m\u001b[0mword\u001b[0m\u001b[0;34m[\u001b[0m\u001b[0;36m0\u001b[0m\u001b[0;34m]\u001b[0m\u001b[0;34m)\u001b[0m \u001b[0;34m==\u001b[0m \u001b[0mtarget\u001b[0m\u001b[0;34m:\u001b[0m\u001b[0;34m\u001b[0m\u001b[0;34m\u001b[0m\u001b[0m\n\u001b[0m\u001b[1;32m     22\u001b[0m                 \u001b[0;32mreturn\u001b[0m \u001b[0mint\u001b[0m\u001b[0;34m(\u001b[0m\u001b[0mword\u001b[0m\u001b[0;34m[\u001b[0m\u001b[0;36m1\u001b[0m\u001b[0;34m]\u001b[0m\u001b[0;34m)\u001b[0m\u001b[0;34m\u001b[0m\u001b[0;34m\u001b[0m\u001b[0m\n\u001b[1;32m     23\u001b[0m \u001b[0;34m\u001b[0m\u001b[0m\n",
      "\u001b[0;31mKeyboardInterrupt\u001b[0m: "
     ]
    }
   ],
   "source": [
    "start = time.time()\n",
    "\n",
    "relError = [(get_F(path_word_freq, 1)/t, rel_error(get_Ftelda(buckets, 1), get_F(path_word_freq, 1)))]\n",
    "for i in range(2, t):\n",
    "    relError.append((get_F(path_word_freq, i)/t, rel_error(get_Ftelda(buckets, i), get_F(path_word_freq, i))))\n",
    "\n",
    "# cheating\n",
    "# relError = [(actual_d[1]/t, rel_error(get_Ftelda(buckets, 1), actual_d[1]))]\n",
    "# for i in range(2, len(actual_d)):\n",
    "#     relError.append((actual_d[i]/t, rel_error(get_Ftelda(buckets, i), actual_d[i])))\n",
    "\n",
    "end = time.time()\n",
    "print(\"total time: %.2f\" % (end-start))"
   ]
  },
  {
   "cell_type": "code",
   "execution_count": null,
   "metadata": {},
   "outputs": [],
   "source": [
    "plt.plot(*zip(*relError), \".\")\n",
    "plt.xlabel(\"Frequency of words\")\n",
    "plt.xscale('log')\n",
    "plt.ylabel(\"Relative error\")\n",
    "plt.yscale('log')\n",
    "plt.title(\"Frequency of words vs. Relative error with Hash functions\")\n",
    "plt.grid()\n",
    "plt.savefig(\"HW4P3_tiny.png\")\n",
    "plt.show()"
   ]
  },
  {
   "cell_type": "code",
   "execution_count": null,
   "metadata": {},
   "outputs": [],
   "source": []
  }
 ],
 "metadata": {
  "kernelspec": {
   "display_name": "Python 3",
   "language": "python",
   "name": "python3"
  },
  "language_info": {
   "codemirror_mode": {
    "name": "ipython",
    "version": 3
   },
   "file_extension": ".py",
   "mimetype": "text/x-python",
   "name": "python",
   "nbconvert_exporter": "python",
   "pygments_lexer": "ipython3",
   "version": "3.7.3"
  }
 },
 "nbformat": 4,
 "nbformat_minor": 2
}
