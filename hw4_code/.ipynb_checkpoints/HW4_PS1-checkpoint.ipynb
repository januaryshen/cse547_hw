{
 "cells": [
  {
   "cell_type": "code",
   "execution_count": 10,
   "metadata": {},
   "outputs": [],
   "source": [
    "import numpy as np\n",
    "from sklearn.utils import shuffle\n",
    "import math\n",
    "import time\n",
    "import matplotlib.pyplot as plt"
   ]
  },
  {
   "cell_type": "code",
   "execution_count": 2,
   "metadata": {},
   "outputs": [],
   "source": [
    "x = np.matrix(np.loadtxt(\"/Users/januaryshen/Dropbox/S19 - CSE 547/hw4/q1/data/features.txt\", delimiter = ','))\n",
    "y = np.loadtxt(\"/Users/januaryshen/Dropbox/S19 - CSE 547/hw4/q1/data/target.txt\", delimiter = ',')"
   ]
  },
  {
   "cell_type": "code",
   "execution_count": 3,
   "metadata": {},
   "outputs": [],
   "source": [
    "def get_determinant(w, x, y, b):\n",
    "    return((x.dot(w)+ np.repeat(b, x.shape[0]).dot(y)))\n",
    "\n",
    "def leave_only_less_than_one(v):\n",
    "    new_v = v\n",
    "    for i in range(len(v)):\n",
    "        if v[0,i] > 1:\n",
    "            new_v[0,i] = 0\n",
    "        else:\n",
    "            new_v[0,i] = 1 - v[0,i]\n",
    "    return(new_v)   \n",
    "\n",
    "def get_cost(w, x, y, b, C):\n",
    "    return(1/2*pow(np.linalg.norm(w),2) + C * leave_only_less_than_one(get_determinant(w, x, y, b)).sum())\n",
    "\n",
    "def cost_change(cost_prior, cost_after):\n",
    "    return(np.true_divide(abs(cost_prior-cost_after)*100, cost_prior))"
   ]
  },
  {
   "cell_type": "code",
   "execution_count": 4,
   "metadata": {},
   "outputs": [
    {
     "name": "stdout",
     "output_type": "stream",
     "text": [
      "12 0.11562800407409668\n"
     ]
    }
   ],
   "source": [
    "# 1. Batch Gradient Descent (BGD)\n",
    "\n",
    "eta_BGD = 3*pow(10, -7)\n",
    "epsilon_BGD = 0.25\n",
    "w = np.repeat(0, x.shape[1])\n",
    "b = 0\n",
    "C = 100\n",
    "k = 0\n",
    "change_BGD = 100 # random number that's bigger than epsilon\n",
    "new_w = w\n",
    "cost_list_BGD = list()\n",
    "\n",
    "startT = time.time()\n",
    "while change_BGD > epsilon_BGD:\n",
    "    cost_prior = get_cost(w, x, y, b, C)\n",
    "    v_det = get_determinant(w, x, y, b)\n",
    "\n",
    "    for i in range(x.shape[1]):\n",
    "        w_temp = 0\n",
    "        b_temp = 0\n",
    "        for l in range(len(v_det)):\n",
    "            if v_det[0,l] >= 1:\n",
    "                w_temp += 0\n",
    "                b_temp += 0\n",
    "            else:\n",
    "                w_temp += -y[i]*x[i,l]\n",
    "                b_temp += -y[i]\n",
    "        new_w[i] = w[i] - eta_BGD * (w[i] + C * w_temp)\n",
    "    \n",
    "    w = new_w\n",
    "    b = b - eta_BGD * C * b_temp\n",
    "    k = k + 1\n",
    "    cost_after = get_cost(w, x, y, b, C)\n",
    "    cost_list_BGD.append((k, cost_after))\n",
    "    \n",
    "    change_BGD = cost_change(cost_prior, cost_after)\n",
    "\n",
    "endT = time.time()\n",
    "print(k, endT - startT)"
   ]
  },
  {
   "cell_type": "code",
   "execution_count": 5,
   "metadata": {},
   "outputs": [
    {
     "name": "stdout",
     "output_type": "stream",
     "text": [
      "49793 76.39243602752686\n"
     ]
    }
   ],
   "source": [
    "# 2. Stochastic Gradient Descent (SGD) 500-3000\n",
    "x, y = shuffle(x, y, random_state=0)\n",
    "\n",
    "eta_SGD = 0.0001\n",
    "epsilon_SGD = 0.001\n",
    "\n",
    "w = np.repeat(0, x.shape[1])\n",
    "b = 0\n",
    "k = 0\n",
    "i = 1\n",
    "C = 100\n",
    "new_w = w\n",
    "last_change = 0 # set the initial change as 0\n",
    "change_SGD = 100 # random as long as it's bigger than eta\n",
    "cost_list_SGD = list()\n",
    "\n",
    "startT = time.time()\n",
    "while change_SGD > epsilon_SGD:\n",
    "    \n",
    "    cost_prior = get_cost(w, x, y, b, C)\n",
    "    scalar_det = get_determinant(w, x[i-1], y[i-1], b).sum()\n",
    "    \n",
    "    if scalar_det >= 1:\n",
    "        w_temp = 0\n",
    "        b_temp = 0\n",
    "    else:\n",
    "        w_temp = np.array(-y[i-1] * x[i-1, :])[0]\n",
    "        b_temp = -y[i-1]\n",
    "        \n",
    "    new_w = w - eta_SGD * (w + (C * w_temp))\n",
    "    w = new_w\n",
    "    b = b - eta_SGD * C * b_temp\n",
    "    \n",
    "    if k == 0:\n",
    "        cost_prior = 100\n",
    "    \n",
    "    cost_after = get_cost(w, x, y, b, C)\n",
    "    change_SGD = 0.5*last_change + 0.5*cost_change(cost_prior, cost_after)\n",
    "    last_change = change_SGD\n",
    "    \n",
    "    cost_list_SGD.append((k, cost_after))\n",
    "    \n",
    "    k += 1\n",
    "    i = (i % x.shape[0]) + 1\n",
    "\n",
    "endT = time.time()\n",
    "print(k, endT-startT)"
   ]
  },
  {
   "cell_type": "code",
   "execution_count": 6,
   "metadata": {},
   "outputs": [
    {
     "name": "stdout",
     "output_type": "stream",
     "text": [
      "243 0.6887521743774414\n"
     ]
    }
   ],
   "source": [
    "# 3. Mini-Batch Gradient Descent (MBGD)\n",
    "\n",
    "x, y = shuffle(x, y, random_state=0)\n",
    "\n",
    "k = 0\n",
    "epsilon_MBGD = 0.01\n",
    "eta_MBGD = pow(10, -5)\n",
    "w = np.repeat(0, x.shape[1])\n",
    "new_w = w\n",
    "b = 0\n",
    "C = 100\n",
    "B = 20\n",
    "l = 0\n",
    "\n",
    "change_MBGD = 100 # random number as long as it's bigger than epsilon\n",
    "last_change = 0\n",
    "cost_list_MBGD = list()\n",
    "\n",
    "startT = time.time()\n",
    "while change_MBGD > epsilon_MBGD:\n",
    "    \n",
    "    cost_prior = get_cost(w, x, y, b, C)\n",
    "    start = l*B + 1\n",
    "    end = min(x.shape[0], (l+1)*B)\n",
    "    \n",
    "    mb_det = get_determinant(w, x[start:end], y[start:end], b)\n",
    "    \n",
    "    for j in range(x.shape[1]):\n",
    "        w_temp = 0\n",
    "        b_temp = 0\n",
    "        for t in range(len(mb_det)):\n",
    "            if mb_det[0,t] >= 1:\n",
    "                w_temp += 0\n",
    "                b_temp += 0\n",
    "            else:\n",
    "                w_temp += -y[start+t]*x[start+t,j]\n",
    "                b_temp += -y[start+t]\n",
    "        new_w[j] = w[j] - eta_MBGD * (w[j] + C * w_temp)\n",
    "    \n",
    "    w = new_w\n",
    "    b = b - eta_MBGD * C * b_temp\n",
    "    k += 1\n",
    "    l = (l + 1) % math.ceil(x.shape[0]/B)\n",
    "    \n",
    "    if k == 0:\n",
    "        last_change = 0\n",
    "    \n",
    "    cost_after = get_cost(w, x, y, b, C)\n",
    "    change_MBGD = 0.5*last_change + 0.5*cost_change(cost_prior, cost_after)\n",
    "    last_change = change_MBGD\n",
    "    \n",
    "    cost_list_MBGD.append((k, cost_after))\n",
    "\n",
    "endT = time.time()\n",
    "print(k, endT-startT)"
   ]
  },
  {
   "cell_type": "code",
   "execution_count": 15,
   "metadata": {},
   "outputs": [
    {
     "data": {
      "image/png": "[encoded data removed]",
      "text/plain": [
       "<Figure size 432x288 with 1 Axes>"
      ]
     },
     "metadata": {
      "needs_background": "light"
     },
     "output_type": "display_data"
    }
   ],
   "source": [
    "plt.plot(*zip(cost_list_BGD, cost_list_SGD, cost_list_MBGD))\n",
    "plt.show()"
   ]
  },
  {
   "cell_type": "code",
   "execution_count": 18,
   "metadata": {},
   "outputs": [
    {
     "data": {
      "text/plain": [
       "[<matplotlib.lines.Line2D at 0xa20ceb390>,\n",
       " <matplotlib.lines.Line2D at 0xa20ceb4e0>]"
      ]
     },
     "execution_count": 18,
     "metadata": {},
     "output_type": "execute_result"
    },
    {
     "data": {
      "image/png": "[encoded data removed]",
      "text/plain": [
       "<Figure size 432x288 with 1 Axes>"
      ]
     },
     "metadata": {
      "needs_background": "light"
     },
     "output_type": "display_data"
    }
   ],
   "source": [
    "plt.plot(*zip(*cost_list_MBGD))"
   ]
  },
  {
   "cell_type": "code",
   "execution_count": 24,
   "metadata": {},
   "outputs": [
    {
     "data": {
      "image/png": "[encoded data removed]",
      "text/plain": [
       "<Figure size 432x288 with 1 Axes>"
      ]
     },
     "metadata": {
      "needs_background": "light"
     },
     "output_type": "display_data"
    }
   ],
   "source": [
    "plt.plot(*zip(*cost_list_BGD))\n",
    "plt.show()"
   ]
  },
  {
   "cell_type": "code",
   "execution_count": 23,
   "metadata": {},
   "outputs": [
    {
     "data": {
      "text/plain": [
       "[(1, 63117.13600000005),\n",
       " (2, 126134.2720000001),\n",
       " (3, 189151.40799999982),\n",
       " (4, 252168.5440000002),\n",
       " (5, 315185.67999999993),\n",
       " (6, 378202.81599999964),\n",
       " (7, 441219.95200000016),\n",
       " (8, 504237.0880000004),\n",
       " (9, 567254.2239999995),\n",
       " (10, 630271.3599999999),\n",
       " (11, 693296.6040000002),\n",
       " (12, 693296.6040000002)]"
      ]
     },
     "execution_count": 23,
     "metadata": {},
     "output_type": "execute_result"
    }
   ],
   "source": [
    "cost_list_BGD"
   ]
  },
  {
   "cell_type": "code",
   "execution_count": 28,
   "metadata": {},
   "outputs": [
    {
     "data": {
      "image/png": "[encoded data removed]",
      "text/plain": [
       "<Figure size 432x288 with 1 Axes>"
      ]
     },
     "metadata": {
      "needs_background": "light"
     },
     "output_type": "display_data"
    }
   ],
   "source": [
    "plt.plot(*zip(*cost_list_SGD))\n",
    "plt.show()"
   ]
  },
  {
   "cell_type": "code",
   "execution_count": 26,
   "metadata": {},
   "outputs": [
    {
     "data": {
      "text/plain": [
       "[(1, 41947339.21559984),\n",
       " (2, 62913876.28147791),\n",
       " (3, 83878772.59294903),\n",
       " (4, 104847330.31418836),\n",
       " (5, 125811101.07945506),\n",
       " (6, 146780980.36654428),\n",
       " (7, 167747618.56620383),\n",
       " (8, 188717577.99934283),\n",
       " (9, 209684672.33793667)]"
      ]
     },
     "execution_count": 26,
     "metadata": {},
     "output_type": "execute_result"
    }
   ],
   "source": [
    "cost_list_SGD[1:10]"
   ]
  },
  {
   "cell_type": "code",
   "execution_count": null,
   "metadata": {},
   "outputs": [],
   "source": []
  }
 ],
 "metadata": {
  "kernelspec": {
   "display_name": "Python 3",
   "language": "python",
   "name": "python3"
  },
  "language_info": {
   "codemirror_mode": {
    "name": "ipython",
    "version": 3
   },
   "file_extension": ".py",
   "mimetype": "text/x-python",
   "name": "python",
   "nbconvert_exporter": "python",
   "pygments_lexer": "ipython3",
   "version": "3.7.3"
  }
 },
 "nbformat": 4,
 "nbformat_minor": 2
}
