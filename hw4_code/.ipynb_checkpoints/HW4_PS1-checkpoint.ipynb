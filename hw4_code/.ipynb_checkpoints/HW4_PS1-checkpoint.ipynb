{
 "cells": [
  {
   "cell_type": "code",
   "execution_count": 1,
   "metadata": {},
   "outputs": [],
   "source": [
    "import numpy as np\n",
    "from sklearn.utils import shuffle\n",
    "import math\n",
    "import time\n",
    "import matplotlib.pyplot as plt"
   ]
  },
  {
   "cell_type": "code",
   "execution_count": 2,
   "metadata": {},
   "outputs": [],
   "source": [
    "path1 = \"/Users/januaryshen/Dropbox/S19 - CSE 547/hw4/q1/data/features.txt\"\n",
    "path2 = \"/Users/januaryshen/Dropbox/S19 - CSE 547/hw4/q1/data/target.txt\"\n",
    "x = np.matrix(np.loadtxt(path1, delimiter = ','))\n",
    "y = np.loadtxt(path2, delimiter = ',')"
   ]
  },
  {
   "cell_type": "code",
   "execution_count": 11,
   "metadata": {},
   "outputs": [],
   "source": [
    "def get_v_determinant(w, x, y, b):\n",
    "    return(np.multiply((x.dot(w)+ b),y))\n",
    "\n",
    "def leave_only_less_than_one(v):\n",
    "    v = 1 - v\n",
    "    v[v < 0] = 0\n",
    "    return(v)   \n",
    "\n",
    "def get_cost(w, x, y, b, C):\n",
    "    c_w = 1/2*pow(np.linalg.norm(w),2)\n",
    "    c_det = C * leave_only_less_than_one(get_v_determinant(w, x, y, b)).sum()\n",
    "    return(c_w + c_det)\n",
    "\n",
    "def cost_change(cost_prior, cost_after):\n",
    "    return(abs(cost_prior-cost_after)*100/cost_prior)\n",
    "\n",
    "def update_w(v_det, x, y, j):\n",
    "    w_change = 0\n",
    "    for i in range(len(v_det)):\n",
    "        if v_det[0, i] < 1:\n",
    "            w_change += -y[i]*x[i, j]\n",
    "    return(w_change)\n",
    "\n",
    "def update_b(v_det, y):\n",
    "    b_change = 0\n",
    "    for i in range(len(v_det)):\n",
    "        if v_det[0, i] < 1:\n",
    "            b_change += -y[i]\n",
    "    return(b_change)"
   ]
  },
  {
   "cell_type": "code",
   "execution_count": 16,
   "metadata": {},
   "outputs": [],
   "source": [
    "# settings for BGD\n",
    "eta_BGD = 3*pow(10, -7)\n",
    "epsilon_BGD = 0.25\n",
    "w = np.repeat(0.0, x.shape[1])\n",
    "b = np.zeros(1)\n",
    "C = 100\n",
    "k = 0\n",
    "change_BGD = 1 # random number that's bigger than epsilon\n",
    "new_w = np.repeat(0.0, x.shape[1])\n",
    "\n",
    "cost_prior = get_cost(w, x, y, b, C)\n",
    "cost_list_BGD = [(0, cost_prior)]"
   ]
  },
  {
   "cell_type": "code",
   "execution_count": 17,
   "metadata": {},
   "outputs": [
    {
     "name": "stdout",
     "output_type": "stream",
     "text": [
      "1 641400.0 641338.1850000063 0.009637511692182365\n"
     ]
    }
   ],
   "source": [
    "# 1. Batch Gradient Descent (BGD)\n",
    "\n",
    "startT = time.time()\n",
    "while change_BGD > epsilon_BGD:\n",
    "    \n",
    "    v_det = get_v_determinant(w, x, y, b)\n",
    "\n",
    "    for j in range(x.shape[1]):\n",
    "        new_w[j] = w[j] - eta_BGD * (w[j] + C * update_w(v_det, x, y, j))\n",
    "    \n",
    "    b = b - eta_BGD * C * update_b(v_det, y)\n",
    "    w = new_w\n",
    "    k = k + 1\n",
    "    \n",
    "    cost_after = get_cost(w, x, y, b, C)\n",
    "    cost_list_BGD.append((k, cost_after))\n",
    "    change_BGD = cost_change(cost_prior, cost_after)\n",
    "    \n",
    "    print(k, cost_prior, cost_after, change_BGD)\n",
    "    cost_prior = cost_after\n",
    "\n",
    "endT = time.time()\n",
    "#print(k, endT - startT)"
   ]
  },
  {
   "cell_type": "code",
   "execution_count": null,
   "metadata": {},
   "outputs": [],
   "source": [
    "# 2. Stochastic Gradient Descent (SGD) 500-3000\n",
    "x, y = shuffle(x, y, random_state=0)\n",
    "\n",
    "eta_SGD = 0.0001\n",
    "epsilon_SGD = 0.001\n",
    "\n",
    "w = np.repeat(0, x.shape[1])\n",
    "b = 0\n",
    "k = 0\n",
    "i = 1\n",
    "C = 100\n",
    "new_w = w\n",
    "last_change = 0 # set the initial change as 0\n",
    "change_SGD = 100 # random as long as it's bigger than eta\n",
    "cost_list_SGD = list()\n",
    "\n",
    "startT = time.time()\n",
    "while change_SGD > epsilon_SGD:\n",
    "    \n",
    "    cost_prior = get_cost(w, x, y, b, C)\n",
    "    scalar_det = get_determinant(w, x[i-1], y[i-1], b).sum()\n",
    "    \n",
    "    if scalar_det >= 1:\n",
    "        w_temp = 0\n",
    "        b_temp = 0\n",
    "    else:\n",
    "        w_temp = np.array(-y[i-1] * x[i-1, :])[0]\n",
    "        b_temp = -y[i-1]\n",
    "        \n",
    "    new_w = w - eta_SGD * (w + (C * w_temp))\n",
    "    w = new_w\n",
    "    b = b - eta_SGD * C * b_temp\n",
    "    \n",
    "    if k == 0:\n",
    "        cost_prior = 100\n",
    "    \n",
    "    cost_after = get_cost(w, x, y, b, C)\n",
    "    change_SGD = 0.5*last_change + 0.5*cost_change(cost_prior, cost_after)\n",
    "    last_change = change_SGD\n",
    "    \n",
    "    cost_list_SGD.append((k, cost_after))\n",
    "    \n",
    "    k += 1\n",
    "    i = (i % x.shape[0]) + 1\n",
    "\n",
    "endT = time.time()\n",
    "print(k, endT-startT)"
   ]
  },
  {
   "cell_type": "code",
   "execution_count": null,
   "metadata": {},
   "outputs": [],
   "source": [
    "# 3. Mini-Batch Gradient Descent (MBGD)\n",
    "\n",
    "x, y = shuffle(x, y, random_state=0)\n",
    "\n",
    "k = 0\n",
    "epsilon_MBGD = 0.01\n",
    "eta_MBGD = pow(10, -5)\n",
    "w = np.repeat(0, x.shape[1])\n",
    "new_w = w\n",
    "b = 0\n",
    "C = 100\n",
    "B = 20\n",
    "l = 0\n",
    "\n",
    "change_MBGD = 100 # random number as long as it's bigger than epsilon\n",
    "last_change = 0\n",
    "cost_list_MBGD = list()\n",
    "\n",
    "startT = time.time()\n",
    "while change_MBGD > epsilon_MBGD:\n",
    "    \n",
    "    cost_prior = get_cost(w, x, y, b, C)\n",
    "    start = l*B + 1\n",
    "    end = min(x.shape[0], (l+1)*B)\n",
    "    \n",
    "    mb_det = get_determinant(w, x[start:end], y[start:end], b)\n",
    "    \n",
    "    for j in range(x.shape[1]):\n",
    "        w_temp = 0\n",
    "        b_temp = 0\n",
    "        for t in range(len(mb_det)):\n",
    "            if mb_det[0,t] >= 1:\n",
    "                w_temp += 0\n",
    "                b_temp += 0\n",
    "            else:\n",
    "                w_temp += -y[start+t]*x[start+t,j]\n",
    "                b_temp += -y[start+t]\n",
    "        new_w[j] = w[j] - eta_MBGD * (w[j] + C * w_temp)\n",
    "    \n",
    "    w = new_w\n",
    "    b = b - eta_MBGD * C * b_temp\n",
    "    k += 1\n",
    "    l = (l + 1) % math.ceil(x.shape[0]/B)\n",
    "    \n",
    "    if k == 0:\n",
    "        last_change = 0\n",
    "    \n",
    "    cost_after = get_cost(w, x, y, b, C)\n",
    "    change_MBGD = 0.5*last_change + 0.5*cost_change(cost_prior, cost_after)\n",
    "    last_change = change_MBGD\n",
    "    \n",
    "    cost_list_MBGD.append((k, cost_after))\n",
    "\n",
    "endT = time.time()\n",
    "print(k, endT-startT)"
   ]
  },
  {
   "cell_type": "code",
   "execution_count": null,
   "metadata": {},
   "outputs": [],
   "source": [
    "plt.plot(*zip(cost_list_BGD, cost_list_SGD, cost_list_MBGD))\n",
    "plt.show()"
   ]
  },
  {
   "cell_type": "code",
   "execution_count": null,
   "metadata": {},
   "outputs": [],
   "source": [
    "plt.plot(*zip(*cost_list_MBGD))"
   ]
  },
  {
   "cell_type": "code",
   "execution_count": null,
   "metadata": {},
   "outputs": [],
   "source": [
    "plt.plot(*zip(cost_list_BGD))\n",
    "plt.show()"
   ]
  },
  {
   "cell_type": "code",
   "execution_count": null,
   "metadata": {},
   "outputs": [],
   "source": [
    "cost_list_BGD"
   ]
  },
  {
   "cell_type": "code",
   "execution_count": null,
   "metadata": {},
   "outputs": [],
   "source": [
    "plt.plot(*zip(*cost_list_MBGD))\n",
    "plt.show()"
   ]
  },
  {
   "cell_type": "code",
   "execution_count": null,
   "metadata": {},
   "outputs": [],
   "source": [
    "cost_list_SGD[1:10]"
   ]
  },
  {
   "cell_type": "code",
   "execution_count": null,
   "metadata": {},
   "outputs": [],
   "source": [
    "cost_list_BGD"
   ]
  },
  {
   "cell_type": "code",
   "execution_count": null,
   "metadata": {},
   "outputs": [],
   "source": []
  }
 ],
 "metadata": {
  "kernelspec": {
   "display_name": "Python 3",
   "language": "python",
   "name": "python3"
  },
  "language_info": {
   "codemirror_mode": {
    "name": "ipython",
    "version": 3
   },
   "file_extension": ".py",
   "mimetype": "text/x-python",
   "name": "python",
   "nbconvert_exporter": "python",
   "pygments_lexer": "ipython3",
   "version": "3.7.3"
  }
 },
 "nbformat": 4,
 "nbformat_minor": 2
}
