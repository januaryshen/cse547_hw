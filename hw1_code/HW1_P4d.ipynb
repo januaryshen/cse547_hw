{
 "cells": [
  {
   "cell_type": "code",
   "execution_count": 36,
   "metadata": {},
   "outputs": [],
   "source": [
    "# Authors: Jessica Su, Wanzi Zhou, Pratyaksh Sharma, Dylan Liu, Ansh Shukla\n",
    "\n",
    "import numpy as np\n",
    "import random\n",
    "import time\n",
    "import pdb\n",
    "import unittest\n",
    "from PIL import Image\n",
    "\n",
    "# Finds the L1 distance between two vectors\n",
    "# u and v are 1-dimensional np.array objects\n",
    "# TODO: Implement this\n",
    "def l1(u, v):\n",
    "    distance = 0\n",
    "    temp = np.subtract(u, v)\n",
    "    for i in range(len(temp)):\n",
    "        distance += abs(temp[i])\n",
    "    return(distance) \n",
    "\n",
    "# Loads the data into a np array, where each row corresponds to\n",
    "# an image patch -- this step is sort of slow.\n",
    "# Each row in the data is an image, and there are 400 columns.\n",
    "def load_data(filename):\n",
    "    return np.genfromtxt(filename, delimiter=',')\n",
    "\n",
    "# Creates a hash function from a list of dimensions and thresholds.\n",
    "def create_function(dimensions, thresholds):\n",
    "    def f(v):\n",
    "        boolarray = [v[dimensions[i]] >= thresholds[i] for i in range(len(dimensions))]\n",
    "        return \"\".join(map(str, map(int, boolarray)))\n",
    "    return f\n",
    "\n",
    "# Creates the LSH functions (functions that compute L K-bit hash keys).\n",
    "# Each function selects k dimensions (i.e. column indices of the image matrix)\n",
    "# at random, and then chooses a random threshold for each dimension, between 0 and\n",
    "# 255.  For any image, if its value on a given dimension is greater than or equal to\n",
    "# the randomly chosen threshold, we set that bit to 1.  Each hash function returns\n",
    "# a length-k bit string of the form \"0101010001101001...\", and the L hash functions \n",
    "# will produce L such bit strings for each image.\n",
    "def create_functions(k, L, num_dimensions=400, min_threshold=0, max_threshold=255):\n",
    "    functions = []\n",
    "    for i in range(L):\n",
    "        dimensions = np.random.randint(low = 0, \n",
    "                                   high = num_dimensions,\n",
    "                                   size = k)\n",
    "        thresholds = np.random.randint(low = min_threshold, \n",
    "                                   high = max_threshold + 1, \n",
    "                                   size = k)\n",
    "\n",
    "        functions.append(create_function(dimensions, thresholds))\n",
    "    return functions\n",
    "\n",
    "# Hashes an individual vector (i.e. image).  This produces an array with L\n",
    "# entries, where each entry is a string of k bits.\n",
    "def hash_vector(functions, v):\n",
    "    return np.array([f(v) for f in functions])\n",
    "\n",
    "# Hashes the data in A, where each row is a datapoint, using the L\n",
    "# functions in \"functions.\"\n",
    "def hash_data(functions, A):\n",
    "    return np.array(list(map(lambda v: hash_vector(functions, v), A)))\n",
    "\n",
    "# Retrieve all of the points that hash to one of the same buckets \n",
    "# as the query point.  Do not do any random sampling (unlike what the first\n",
    "# part of this problem prescribes).\n",
    "# Don't retrieve a point if it is the same point as the query point.\n",
    "def get_candidates(hashed_A, hashed_point, query_index):\n",
    "    return filter(lambda i: i != query_index and \\\n",
    "        any(hashed_point == hashed_A[i]), range(len(hashed_A)))\n",
    "\n",
    "# Sets up the LSH.  You should try to call this function as few times as \n",
    "# possible, since it is expensive.\n",
    "# A: The dataset.\n",
    "# Return the LSH functions and hashed data structure.\n",
    "def lsh_setup(A, k = 24, L = 10):\n",
    "    functions = create_functions(k = k, L = L)\n",
    "    hashed_A = hash_data(functions, A)\n",
    "    return (functions, hashed_A)\n",
    "\n",
    "# Run the entire LSH algorithm\n",
    "def lsh_search(A, hashed_A, functions, query_index, num_neighbors = 10):\n",
    "    hashed_point = hash_vector(functions, A[query_index, :])\n",
    "    candidate_row_nums = get_candidates(hashed_A, hashed_point, query_index)\n",
    "    \n",
    "    distances = map(lambda r: (r, l1(A[r], A[query_index])), candidate_row_nums)\n",
    "    best_neighbors = sorted(distances, key=lambda t: t[1])[:num_neighbors]\n",
    "\n",
    "    return [t[0] for t in best_neighbors]\n",
    "\n",
    "# Plots images at the specified rows and saves them each to files.\n",
    "def plot(A, row_nums, base_filename):\n",
    "    for row_num in row_nums:\n",
    "        patch = np.reshape(A[row_num, :], [20, 20])\n",
    "        im = Image.fromarray(patch)\n",
    "        if im.mode != 'RGB':\n",
    "            im = im.convert('RGB')\n",
    "        im.save(base_filename + \"-\" + str(row_num) + \".png\")\n",
    "\n",
    "# Finds the nearest neighbors to a given vector, using linear search.\n",
    "def linear_search(A, query_index, num_neighbors):\n",
    "    \n",
    "    distanceList = list()\n",
    "    counter = 0\n",
    "    for i in A:\n",
    "        distanceList.append((counter, l1(i, A[query_index])))\n",
    "        counter += 1\n",
    "\n",
    "    IamSoLateForSleep = sorted(distanceList, key=lambda t: t[1])[:num_neighbors]    \n",
    "    return([t[0] for t in IamSoLateForSleep])\n",
    "    \n",
    "# TODO: Write a function that computes the error measure\n",
    "def get_error():\n",
    "    \n",
    "    return(0)\n",
    "    \n",
    "    "
   ]
  },
  {
   "cell_type": "code",
   "execution_count": 32,
   "metadata": {},
   "outputs": [],
   "source": [
    "A = load_data(\"/Users/januaryshen/Dropbox/S19 - CSE 547/hw1/q4/data/patches.csv\")"
   ]
  },
  {
   "cell_type": "code",
   "execution_count": 13,
   "metadata": {},
   "outputs": [],
   "source": [
    "lsh = lsh_setup(A)"
   ]
  },
  {
   "cell_type": "code",
   "execution_count": 14,
   "metadata": {},
   "outputs": [
    {
     "data": {
      "text/plain": [
       "[48783, 37129, 39030, 16820, 21683, 55993, 38603, 26158, 21592, 18989]"
      ]
     },
     "execution_count": 14,
     "metadata": {},
     "output_type": "execute_result"
    }
   ],
   "source": [
    "lsh_search(A, lsh[1], lsh[0], 99)"
   ]
  },
  {
   "cell_type": "code",
   "execution_count": 37,
   "metadata": {},
   "outputs": [
    {
     "data": {
      "text/plain": [
       "[2, 47453, 26332, 26302]"
      ]
     },
     "execution_count": 37,
     "metadata": {},
     "output_type": "execute_result"
    }
   ],
   "source": [
    "linear_search(A, 2, 4)"
   ]
  },
  {
   "cell_type": "code",
   "execution_count": 21,
   "metadata": {},
   "outputs": [],
   "source": [
    "myfunc = create_functions(3,5,10)"
   ]
  },
  {
   "cell_type": "code",
   "execution_count": 22,
   "metadata": {},
   "outputs": [],
   "source": [
    "v = np.array([3,4,5,6,7,8,9,10,11,12])"
   ]
  },
  {
   "cell_type": "code",
   "execution_count": 24,
   "metadata": {},
   "outputs": [],
   "source": [
    "h_array = hash_vector(myfunc, v)"
   ]
  },
  {
   "cell_type": "code",
   "execution_count": null,
   "metadata": {},
   "outputs": [],
   "source": [
    "# Run the entire LSH algorithm\n",
    "def lsh_search(A, hashed_A, functions, query_index, num_neighbors = 10):\n",
    "    hashed_point = hash_vector(functions, A[query_index, :])\n",
    "    candidate_row_nums = get_candidates(hashed_A, hashed_point, query_index)\n",
    "    \n",
    "    distances = map(lambda r: (r, l1(A[r], A[query_index])), candidate_row_nums)\n",
    "    best_neighbors = sorted(distances, key=lambda t: t[1])[:num_neighbors]\n",
    "\n",
    "    return [t[0] for t in best_neighbors]"
   ]
  },
  {
   "cell_type": "code",
   "execution_count": 10,
   "metadata": {},
   "outputs": [],
   "source": [
    "# TODO: Solve Problem 4\n",
    "def problem4():\n",
    "    # A = load_data(\"/Users/januaryshen/Dropbox/S19 - CSE 547/hw1/q4/data/patches.csv\")\n",
    "    l1_results = []\n",
    "    lsh_results = []\n",
    "    for i in range(1, 11):\n",
    "        l1_results.append((i * 100, linear_search(A, i * 100, 3)))\n",
    "    functions, hashed_A = lsh_setup(A)\n",
    "    for i in range(1, 11):\n",
    "        lsh_results.append((i * 100, lsh_search(A, hashed_A, functions, i * 100, 3)))\n",
    "    print('----- L1 Results -----')\n",
    "    print(l1_results)\n",
    "    print('')\n",
    "    print('----- LSH Results -----')\n",
    "    print(lsh_results)\n",
    "    #raise NotImplementedError"
   ]
  },
  {
   "cell_type": "code",
   "execution_count": 30,
   "metadata": {},
   "outputs": [
    {
     "name": "stderr",
     "output_type": "stream",
     "text": [
      "E\n",
      "======================================================================\n",
      "ERROR: /Users/januaryshen/Library/Jupyter/runtime/kernel-46db013a-0b69-4603-8b8f-653ef4a13f9f (unittest.loader._FailedTest)\n",
      "----------------------------------------------------------------------\n",
      "AttributeError: module '__main__' has no attribute '/Users/januaryshen/Library/Jupyter/runtime/kernel-46db013a-0b69-4603-8b8f-653ef4a13f9f'\n",
      "\n",
      "----------------------------------------------------------------------\n",
      "Ran 1 test in 0.002s\n",
      "\n",
      "FAILED (errors=1)\n"
     ]
    },
    {
     "ename": "SystemExit",
     "evalue": "True",
     "output_type": "error",
     "traceback": [
      "An exception has occurred, use %tb to see the full traceback.\n",
      "\u001b[0;31mSystemExit\u001b[0m\u001b[0;31m:\u001b[0m True\n"
     ]
    },
    {
     "name": "stderr",
     "output_type": "stream",
     "text": [
      "/anaconda3/lib/python3.7/site-packages/IPython/core/interactiveshell.py:3275: UserWarning: To exit: use 'exit', 'quit', or Ctrl-D.\n",
      "  warn(\"To exit: use 'exit', 'quit', or Ctrl-D.\", stacklevel=1)\n"
     ]
    }
   ],
   "source": [
    "#### TESTS #####\n",
    "\n",
    "class TestLSH(unittest.TestCase):\n",
    "    def test_l1(self):\n",
    "        u = np.array([1, 2, 3, 4])\n",
    "        v = np.array([2, 3, 2, 3])\n",
    "        self.assertEqual(l1(u, v), 4)\n",
    "\n",
    "    def test_hash_data(self):\n",
    "        f1 = lambda v: sum(v)\n",
    "        f2 = lambda v: sum([x * x for x in v])\n",
    "        A = np.array([[1, 2, 3], [4, 5, 6]])\n",
    "        self.assertEqual(f1(A[0,:]), 6)\n",
    "        self.assertEqual(f2(A[0,:]), 14)\n",
    "\n",
    "        functions = [f1, f2]\n",
    "        self.assertTrue(np.array_equal(hash_vector(functions, A[0, :]), np.array([6, 14])))\n",
    "        self.assertTrue(np.array_equal(hash_data(functions, A), np.array([[6, 14], [15, 77]])))\n",
    "\n",
    "    ### TODO: Write your tests here (they won't be graded, \n",
    "    ### but you may find them helpful)\n",
    "\n",
    "\n",
    "if __name__ == '__main__':\n",
    "    unittest.main() ### TODO: Uncomment this to run tests\n",
    "    problem4()\n"
   ]
  },
  {
   "cell_type": "code",
   "execution_count": null,
   "metadata": {},
   "outputs": [],
   "source": []
  }
 ],
 "metadata": {
  "kernelspec": {
   "display_name": "Python 2",
   "language": "python",
   "name": "python2"
  },
  "language_info": {
   "codemirror_mode": {
    "name": "ipython",
    "version": 3
   },
   "file_extension": ".py",
   "mimetype": "text/x-python",
   "name": "python",
   "nbconvert_exporter": "python",
   "pygments_lexer": "ipython3",
   "version": "3.7.1"
  }
 },
 "nbformat": 4,
 "nbformat_minor": 2
}
