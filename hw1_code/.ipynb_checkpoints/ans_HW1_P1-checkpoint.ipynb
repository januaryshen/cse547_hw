{
 "cells": [
  {
   "cell_type": "code",
   "execution_count": 1,
   "metadata": {},
   "outputs": [],
   "source": [
    "import re\n",
    "import sys\n",
    "from pyspark import SparkConf, SparkContext\n",
    "conf = SparkConf().set(\"spark.driver.memory\",\"8G\")\n",
    "sc = SparkContext(conf=conf)"
   ]
  },
  {
   "cell_type": "code",
   "execution_count": 7,
   "metadata": {},
   "outputs": [],
   "source": [
    "rdd_file = sc.textFile('/Users/januaryshen/Dropbox/S19 - CSE 547/hw1/q1/data/soc-LiveJournal1Adj.txt')\n",
    "rdd_file = rdd_file.map(lambda l: re.split(r'[^\\w]+', l))\n",
    "#mutual_friend_rdd = rdd_file.map(lambda x: x[1:])"
   ]
  },
  {
   "cell_type": "code",
   "execution_count": 8,
   "metadata": {},
   "outputs": [],
   "source": [
    "already_friend_rdd = rdd_file.flatMap(lambda x: [[(x[0], x[i]), 0] for i in range(1, len(x))])"
   ]
  },
  {
   "cell_type": "code",
   "execution_count": 9,
   "metadata": {},
   "outputs": [],
   "source": [
    "mutual_friend_rdd = rdd_file.flatMap(lambda x: [[(x[i], x[j]), 1] for i in range(1, len(x)) for j in range(1, len(x))])\n"
   ]
  },
  {
   "cell_type": "code",
   "execution_count": 10,
   "metadata": {},
   "outputs": [],
   "source": [
    "relationships_rdd = already_friend_rdd.union(mutual_friend_rdd)  # make sure already_friend comes prior to mutual_fried\n",
    "relationships_rdd = relationships_rdd.filter(lambda x: x[0][0] != x[0][1])\n",
    "relationships_rdd = relationships_rdd.groupByKey().mapValues(list)\n",
    "relationships_rdd = relationships_rdd.filter(lambda x: x[1][0] != 0)\n",
    "relationships_rdd = relationships_rdd.mapValues(lambda x: sum(x))\n"
   ]
  },
  {
   "cell_type": "code",
   "execution_count": 11,
   "metadata": {},
   "outputs": [],
   "source": [
    "wanted = ['924', '8941', '8942', '9019', '9020', '9021', '9022', '9990', '9992', '9993']\n",
    "ans = relationships_rdd.filter(lambda x: [x[0][0] == '11']).sortBy(lambda x: int(x[0][1]),ascending = True).sortBy(lambda x: x[1],ascending = False).collect()\n",
    "#11:48"
   ]
  },
  {
   "cell_type": "code",
   "execution_count": 12,
   "metadata": {
    "scrolled": true
   },
   "outputs": [],
   "source": [
    "res = list()\n",
    "for i in wanted:\n",
    "    for j in range(len(ans)):\n",
    "        count = 0\n",
    "        if ans[j][0][0] == i:\n",
    "            res.append(ans[j])\n",
    "            count += 1\n",
    "        if count == 10:\n",
    "            break\n",
    "# 27552,7785,27573,27574,27589,27590,27600,27617,27620,27667"
   ]
  },
  {
   "cell_type": "code",
   "execution_count": 13,
   "metadata": {},
   "outputs": [
    {
     "data": {
      "text/plain": [
       "[((u'924', u'439'), 1),\n",
       " ((u'924', u'2409'), 1),\n",
       " ((u'924', u'6995'), 1),\n",
       " ((u'924', u'11860'), 1),\n",
       " ((u'924', u'15416'), 1),\n",
       " ((u'924', u'43748'), 1),\n",
       " ((u'924', u'45881'), 1),\n",
       " ((u'8941', u'8943'), 2),\n",
       " ((u'8941', u'8944'), 2),\n",
       " ((u'8941', u'8940'), 1),\n",
       " ((u'8942', u'8939'), 3),\n",
       " ((u'8942', u'8940'), 1),\n",
       " ((u'8942', u'8943'), 1),\n",
       " ((u'8942', u'8944'), 1),\n",
       " ((u'9019', u'9022'), 2),\n",
       " ((u'9019', u'317'), 1),\n",
       " ((u'9019', u'9023'), 1),\n",
       " ((u'9020', u'9021'), 3),\n",
       " ((u'9020', u'9016'), 2),\n",
       " ((u'9020', u'9017'), 2),\n",
       " ((u'9020', u'9022'), 2),\n",
       " ((u'9020', u'317'), 1),\n",
       " ((u'9020', u'9023'), 1),\n",
       " ((u'9021', u'9020'), 3),\n",
       " ((u'9021', u'9016'), 2),\n",
       " ((u'9021', u'9017'), 2),\n",
       " ((u'9021', u'9022'), 2),\n",
       " ((u'9021', u'317'), 1),\n",
       " ((u'9021', u'9023'), 1),\n",
       " ((u'9022', u'9019'), 2),\n",
       " ((u'9022', u'9020'), 2),\n",
       " ((u'9022', u'9021'), 2),\n",
       " ((u'9022', u'317'), 1),\n",
       " ((u'9022', u'9016'), 1),\n",
       " ((u'9022', u'9017'), 1),\n",
       " ((u'9022', u'9023'), 1),\n",
       " ((u'9990', u'13134'), 1),\n",
       " ((u'9990', u'13478'), 1),\n",
       " ((u'9990', u'13877'), 1),\n",
       " ((u'9990', u'34299'), 1),\n",
       " ((u'9990', u'34485'), 1),\n",
       " ((u'9990', u'34642'), 1),\n",
       " ((u'9990', u'37941'), 1),\n",
       " ((u'9992', u'9987'), 4),\n",
       " ((u'9992', u'9989'), 4),\n",
       " ((u'9992', u'35667'), 3),\n",
       " ((u'9992', u'9991'), 2),\n",
       " ((u'9993', u'9991'), 5),\n",
       " ((u'9993', u'13134'), 1),\n",
       " ((u'9993', u'13478'), 1),\n",
       " ((u'9993', u'13877'), 1),\n",
       " ((u'9993', u'34299'), 1),\n",
       " ((u'9993', u'34485'), 1),\n",
       " ((u'9993', u'34642'), 1),\n",
       " ((u'9993', u'37941'), 1)]"
      ]
     },
     "execution_count": 13,
     "metadata": {},
     "output_type": "execute_result"
    }
   ],
   "source": [
    "res"
   ]
  },
  {
   "cell_type": "code",
   "execution_count": 9,
   "metadata": {},
   "outputs": [],
   "source": [
    "tmp = [(('11', '12'), 5), (('11','13'), 4), (('10', '15'), 9), (('10', '16'), 5), (('10', '12'), 2)]"
   ]
  },
  {
   "cell_type": "code",
   "execution_count": 10,
   "metadata": {},
   "outputs": [
    {
     "data": {
      "text/plain": [
       "[(('11', '12'), 5),\n",
       " (('11', '13'), 4),\n",
       " (('10', '15'), 9),\n",
       " (('10', '16'), 5),\n",
       " (('10', '12'), 2)]"
      ]
     },
     "execution_count": 10,
     "metadata": {},
     "output_type": "execute_result"
    }
   ],
   "source": [
    "totake = ['11','10','12']\n",
    "sc.parallelize(tmp).filter(lambda x: [x[0][0] == totake]).collect()"
   ]
  },
  {
   "cell_type": "code",
   "execution_count": null,
   "metadata": {},
   "outputs": [],
   "source": []
  }
 ],
 "metadata": {
  "kernelspec": {
   "display_name": "Python 2",
   "language": "python",
   "name": "python2"
  },
  "language_info": {
   "codemirror_mode": {
    "name": "ipython",
    "version": 2
   },
   "file_extension": ".py",
   "mimetype": "text/x-python",
   "name": "python",
   "nbconvert_exporter": "python",
   "pygments_lexer": "ipython2",
   "version": "2.7.16"
  }
 },
 "nbformat": 4,
 "nbformat_minor": 2
}
